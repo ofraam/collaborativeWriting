{
 "metadata": {
  "name": "",
  "signature": "sha256:1fcc24a593f16105dd268565d4c4862fabb2d0c03bbafb75308d0052e5d8b574"
 },
 "nbformat": 3,
 "nbformat_minor": 0,
 "worksheets": [
  {
   "cells": [
    {
     "cell_type": "code",
     "collapsed": false,
     "input": [
      "%matplotlib inline\n",
      "import os\n",
      "import cPickle\n",
      "import matplotlib.pyplot as plt\n",
      "from scipy.stats.stats import pearsonr\n",
      "import numpy as np\n",
      "import matplotlib.cm as cm\n",
      "from matplotlib import rcParams\n",
      "import random\n",
      "import Levenshtein"
     ],
     "language": "python",
     "metadata": {},
     "outputs": [],
     "prompt_number": 1
    },
    {
     "cell_type": "code",
     "collapsed": false,
     "input": [
      "#colorbrewer2 Dark2 qualitative color table\n",
      "dark2_colors = [(0.10588235294117647, 0.6196078431372549, 0.4666666666666667),\n",
      "                (0.8509803921568627, 0.37254901960784315, 0.00784313725490196),\n",
      "                (0.4588235294117647, 0.4392156862745098, 0.7019607843137254),\n",
      "                (0.9058823529411765, 0.1607843137254902, 0.5411764705882353),\n",
      "                (0.4, 0.6509803921568628, 0.11764705882352941),\n",
      "                (0.9019607843137255, 0.6705882352941176, 0.00784313725490196),\n",
      "                (0.6509803921568628, 0.4627450980392157, 0.11372549019607843)]\n",
      "\n",
      "rcParams['figure.figsize'] = (10, 6)\n",
      "rcParams['figure.dpi'] = 150\n",
      "rcParams['axes.color_cycle'] = dark2_colors\n",
      "rcParams['lines.linewidth'] = 2\n",
      "rcParams['axes.facecolor'] = 'white'\n",
      "rcParams['font.size'] = 14\n",
      "rcParams['patch.edgecolor'] = 'white'\n",
      "rcParams['patch.facecolor'] = dark2_colors[0]\n",
      "rcParams['font.family'] = 'StixGeneral'\n",
      "\n",
      "\n",
      "def remove_border(axes=None, top=False, right=False, left=True, bottom=True):\n",
      "    \"\"\"\n",
      "    Minimize chartjunk by stripping out unnecesasry plot borders and axis ticks\n",
      "    \n",
      "    The top/right/left/bottom keywords toggle whether the corresponding plot border is drawn\n",
      "    \"\"\"\n",
      "    ax = axes or plt.gca()\n",
      "    ax.spines['top'].set_visible(top)\n",
      "    ax.spines['right'].set_visible(right)\n",
      "    ax.spines['left'].set_visible(left)\n",
      "    ax.spines['bottom'].set_visible(bottom)\n",
      "    \n",
      "    #turn off all ticks\n",
      "    ax.yaxis.set_ticks_position('none')\n",
      "    ax.xaxis.set_ticks_position('none')\n",
      "    \n",
      "    #now re-enable visibles\n",
      "    if top:\n",
      "        ax.xaxis.tick_top()\n",
      "    if bottom:\n",
      "        ax.xaxis.tick_bottom()\n",
      "    if left:\n",
      "        ax.yaxis.tick_left()\n",
      "    if right:\n",
      "        ax.yaxis.tick_right()"
     ],
     "language": "python",
     "metadata": {},
     "outputs": [],
     "prompt_number": 2
    },
    {
     "cell_type": "code",
     "collapsed": false,
     "input": [
      "#class for prediction evaluation\n",
      "class prediction_pickle():\n",
      "    def __init__(self):\n",
      "        self.versions= None\n",
      "        self.same_after = None\n",
      "        self.all_after = None\n",
      "        self.all_before_after = None\n",
      "        self.all_avg_before_after = None\n",
      "        self.neighbor_after = None\n",
      "        self.neighbor_before_after_values_indices = None\n",
      "        self.neighbor_avg_before_after = None\n",
      "        self.xscatter_initial_n = None\n",
      "        self.yscatter_neighbor = None\n",
      "        self.xscatter_initial_a = None\n",
      "        self.yscatter_all = None\n",
      "        self.future_linked = None\n",
      "        self.mappings = None\n",
      "        self.similarity_linked = None"
     ],
     "language": "python",
     "metadata": {},
     "outputs": [],
     "prompt_number": 3
    },
    {
     "cell_type": "code",
     "collapsed": false,
     "input": [
      "#load data\n",
      "def get_pickle(pickle_file, folder=\"newer_predictions\"):\n",
      "    pickle_name = os.path.join(os.getcwd(), folder, pickle_file)\n",
      "    pkl_file = open(pickle_name, 'rb')\n",
      "    xml_parse = cPickle.load(pkl_file)\n",
      "    pkl_file.close()\n",
      "    return xml_parse"
     ],
     "language": "python",
     "metadata": {},
     "outputs": [],
     "prompt_number": 4
    },
    {
     "cell_type": "code",
     "collapsed": false,
     "input": [
      "pickles = {}\n",
      "for a in os.walk(\"newer_predictions\"):\n",
      "    for b in a[2]:\n",
      "        empty_class = prediction_pickle()\n",
      "        empty_class = get_pickle(b)\n",
      "        pickles[b[:-4]] = empty_class"
     ],
     "language": "python",
     "metadata": {},
     "outputs": [],
     "prompt_number": 5
    },
    {
     "cell_type": "code",
     "collapsed": false,
     "input": [
      "linked_pickles = {}\n",
      "for a in os.walk(\"linked\"):\n",
      "    for b in a[2]:\n",
      "        empty_class = prediction_pickle()\n",
      "        empty_class = get_pickle(b, \"linked\")\n",
      "        linked_pickles[b[:-4]] = empty_class"
     ],
     "language": "python",
     "metadata": {},
     "outputs": [],
     "prompt_number": 6
    },
    {
     "cell_type": "code",
     "collapsed": false,
     "input": [
      "texts = {}\n",
      "for a in os.walk(\"pickles\"):\n",
      "    for b in a[2]:\n",
      "        empty_class = prediction_pickle()\n",
      "        empty_class = get_pickle(b, \"pickles\")\n",
      "        current_paras = empty_class.get_all_paragraphs()\n",
      "        texts[b] = [[d.text.encode('utf-8') for d in c] for c in current_paras]\n",
      "        print b"
     ],
     "language": "python",
     "metadata": {},
     "outputs": [
      {
       "output_type": "stream",
       "stream": "stdout",
       "text": [
        "Absolute_pitch.pkl\n",
        "angela_merkel.pkl"
       ]
      },
      {
       "output_type": "stream",
       "stream": "stdout",
       "text": [
        "\n",
        "apple.pkl"
       ]
      },
      {
       "output_type": "stream",
       "stream": "stdout",
       "text": [
        "\n",
        "augustus.pkl"
       ]
      },
      {
       "output_type": "stream",
       "stream": "stdout",
       "text": [
        "\n",
        "battle_of_waterloo.pkl"
       ]
      },
      {
       "output_type": "stream",
       "stream": "stdout",
       "text": [
        "\n",
        "Boston.pkl"
       ]
      },
      {
       "output_type": "stream",
       "stream": "stdout",
       "text": [
        "\n",
        "breaking_bad.pkl"
       ]
      },
      {
       "output_type": "stream",
       "stream": "stdout",
       "text": [
        "\n",
        "butterfly.pkl"
       ]
      },
      {
       "output_type": "stream",
       "stream": "stdout",
       "text": [
        "\n",
        "demis_hassabis.pkl"
       ]
      },
      {
       "output_type": "stream",
       "stream": "stdout",
       "text": [
        "\n",
        "google.pkl"
       ]
      },
      {
       "output_type": "stream",
       "stream": "stdout",
       "text": [
        "\n",
        "graphplan.pkl"
       ]
      },
      {
       "output_type": "stream",
       "stream": "stdout",
       "text": [
        "\n",
        "Harvard_University.pkl"
       ]
      },
      {
       "output_type": "stream",
       "stream": "stdout",
       "text": [
        "\n",
        "IBM.pkl"
       ]
      },
      {
       "output_type": "stream",
       "stream": "stdout",
       "text": [
        "\n",
        "iphone.pkl"
       ]
      },
      {
       "output_type": "stream",
       "stream": "stdout",
       "text": [
        "\n",
        "italy.pkl"
       ]
      },
      {
       "output_type": "stream",
       "stream": "stdout",
       "text": [
        "\n",
        "james_morrison.pkl"
       ]
      },
      {
       "output_type": "stream",
       "stream": "stdout",
       "text": [
        "\n",
        "johann_pachelbel.pkl"
       ]
      },
      {
       "output_type": "stream",
       "stream": "stdout",
       "text": [
        "\n",
        "ken_follett.pkl"
       ]
      },
      {
       "output_type": "stream",
       "stream": "stdout",
       "text": [
        "\n",
        "knapsack_problem.pkl"
       ]
      },
      {
       "output_type": "stream",
       "stream": "stdout",
       "text": [
        "\n",
        "lauren_bacall.pkl"
       ]
      },
      {
       "output_type": "stream",
       "stream": "stdout",
       "text": [
        "\n",
        "machine_learning.pkl"
       ]
      },
      {
       "output_type": "stream",
       "stream": "stdout",
       "text": [
        "\n",
        "mona_lisa.pkl"
       ]
      },
      {
       "output_type": "stream",
       "stream": "stdout",
       "text": [
        "\n",
        "movie_theater.pkl"
       ]
      },
      {
       "output_type": "stream",
       "stream": "stdout",
       "text": [
        "\n",
        "neverending_story.pkl"
       ]
      },
      {
       "output_type": "stream",
       "stream": "stdout",
       "text": [
        "\n",
        "noah.pkl"
       ]
      },
      {
       "output_type": "stream",
       "stream": "stdout",
       "text": [
        "\n",
        "Octave.pkl"
       ]
      },
      {
       "output_type": "stream",
       "stream": "stdout",
       "text": [
        "\n",
        "ofra.pkl"
       ]
      },
      {
       "output_type": "stream",
       "stream": "stdout",
       "text": [
        "\n",
        "ofra_satd.pkl\n",
        "oktoberfest.pkl"
       ]
      },
      {
       "output_type": "stream",
       "stream": "stdout",
       "text": [
        "\n",
        "One_Direction.pkl"
       ]
      },
      {
       "output_type": "stream",
       "stream": "stdout",
       "text": [
        "\n",
        "otto_von_bismarck.pkl"
       ]
      },
      {
       "output_type": "stream",
       "stream": "stdout",
       "text": [
        "\n",
        "Piano.pkl"
       ]
      },
      {
       "output_type": "stream",
       "stream": "stdout",
       "text": [
        "\n",
        "python.pkl"
       ]
      },
      {
       "output_type": "stream",
       "stream": "stdout",
       "text": [
        "\n",
        "santorini.pkl"
       ]
      },
      {
       "output_type": "stream",
       "stream": "stdout",
       "text": [
        "\n",
        "savant_syndrom.pkl"
       ]
      },
      {
       "output_type": "stream",
       "stream": "stdout",
       "text": [
        "\n",
        "shinto.pkl"
       ]
      },
      {
       "output_type": "stream",
       "stream": "stdout",
       "text": [
        "\n",
        "soccer.pkl"
       ]
      },
      {
       "output_type": "stream",
       "stream": "stdout",
       "text": [
        "\n",
        "the_lion_king.pkl"
       ]
      },
      {
       "output_type": "stream",
       "stream": "stdout",
       "text": [
        "\n",
        "to_kill_a_mockingbird.pkl"
       ]
      },
      {
       "output_type": "stream",
       "stream": "stdout",
       "text": [
        "\n",
        "Violin.pkl"
       ]
      },
      {
       "output_type": "stream",
       "stream": "stdout",
       "text": [
        "\n",
        "Yale_University.pkl"
       ]
      },
      {
       "output_type": "stream",
       "stream": "stdout",
       "text": [
        "\n"
       ]
      }
     ],
     "prompt_number": 18
    },
    {
     "cell_type": "code",
     "collapsed": false,
     "input": [
      "#get future mappings\n",
      "def get_future_mappings(version,index,future):\n",
      "    try: \n",
      "        a = current_paratexts[version][index]\n",
      "    except: \n",
      "        return None\n",
      "    \n",
      "    lst = [index]\n",
      "    while future > 0:\n",
      "        if version > versions:\n",
      "            return None\n",
      "        index = all_mappings[version].get(index)\n",
      "        if not index:\n",
      "            return None\n",
      "        lst.append(index)\n",
      "        version += 1\n",
      "        future -=1\n",
      "    return lst"
     ],
     "language": "python",
     "metadata": {},
     "outputs": [],
     "prompt_number": 7
    },
    {
     "cell_type": "code",
     "collapsed": false,
     "input": [
      "total_dict = {}\n",
      "for key, pickle in linked_pickles.iteritems():\n",
      "    linked = pickle.similarity_linked[0]\n",
      "    if linked:\n",
      "        array = []\n",
      "        for x in xrange(2):\n",
      "            r = random.choice(linked)\n",
      "            array.append((texts[key + \".pkl\"][r[0]][r[1]], texts[key + \".pkl\"][r[0]][r[2]]))\n",
      "        total_dict[key] = array\n",
      "    \n",
      "with open('comparison_of_similarity.txt', 'w') as f:\n",
      "    f.write(str(total_array).decode('utf-8'))"
     ],
     "language": "python",
     "metadata": {},
     "outputs": [],
     "prompt_number": 53
    },
    {
     "cell_type": "code",
     "collapsed": false,
     "input": [
      "print texts[\"Violin.pkl\"][364][32]\n",
      "print\n",
      "print texts[\"Violin.pkl\"][364][20]\n",
      "print\n"
     ],
     "language": "python",
     "metadata": {},
     "outputs": [
      {
       "output_type": "stream",
       "stream": "stdout",
       "text": [
        "Artificial harmonics, however, are much more difficult.  They require pressing down a finger on one string (for example, first finger on the D string on the note \"E\"), and having another finger just touching the string a fourth higher, in this case on the position of the note \"A\".  When the violinist stops the string with the first finger, and touches it lightly with the fourth finger in this way, the node one-fourth of the way along the string is touched, and the string will vibrate in four parts, sounding a tone two octaves above the note that is stopped (in this case, E).  The distance between the two fingers must be extremely accurate, or else the harmonic will not sound.  In addition, the pressure from the bow and the two fingers must be exactly right or it will not sound. The  \"harmonic finger\" can also touch at a major third above the pressed note, or a fifth higher.  These harmonics are less commonly used because they are even more difficult to make sound well.  In the case of the major third, the harmonic is higher in the overtone series, and does not speak as readily; in the case of the fifth, the stretch is greater than is comfortable for many violinists.  The sounding pitch of the major third harmonic is two octaves and a major third above the lower note, and in the case of the fifth, it is an octave and a fifth above the lower note.\n",
        "\n",
        "See also: How to play the violinPlacement of the left hand fingers on the strings does not rely on frets; the player must stop the string at the right spot from skill alone, or else sound out of tune. To attain good intonation, violin players practice long hours training the fingers to land in the right places, learning to hear when a note is in or out of tune, and cultivating the ability to correct the pitch rapidly and automatically as notes are being played. \"Singing\" the note mentally helps to land in the right spot. Although adjusting to the desired pitch after landing the finger is indeed possible, the amount of adjustment needed may be greatly reduced by training the fingers to fall properly in the first place. That said, Jascha Heifetz, a genius of the violin, and said never to practice finger exercises, played very much in tune due to his ability to adjust more quickly than most people could hear. The fingers are conventionally numbered 1 (index) through 4 (little finger).  Especially in instructional editions of violin music, numbers over the notes may indicate which finger to use, with \"O\" indicating \"open\" string. The second finger may be either \"low\" or \"high,\" corresponding to G or G# on the E string in first position. Similarly, the first finger may reach a half-step down for the F, and 3d and 4th fingers reach up for A# and C respectively. The chart to the right shows the arrangement of notes reachable in first position. Note well: left hand finger placement is a matter of the ears and hand, not the eyes, that is, it has strong aural and tactile/kinesthetic components, with visual references being only marginally useful. Note also (not shown on this chart) that the spacing between note positions becomes closer as the fingers move \"up\" (in pitch) from the nut. The yellow bars on the sides of the chart represent three of the usual tape placements for beginners, at 1st, high 2nd, and 3d fingers.\n",
        "\n"
       ]
      }
     ],
     "prompt_number": 42
    },
    {
     "cell_type": "code",
     "collapsed": false,
     "input": [
      "#predicting changes after sig change\n",
      "\n",
      "average_times = []\n",
      "average_change = []\n",
      "time_after = []\n",
      "changes_bool = []\n",
      "average_times_if_change = []\n",
      "\n",
      "for item in pickles.keys():\n",
      "    for row in pickles[item].same_after:\n",
      "        average_times.append(sum([1 if x < .9 else 0 for x in row])-1)\n",
      "        average_change.append(np.mean(row[1:]))\n",
      "        time_after = time_after + [i for i,x in enumerate(row[1:]) if x < .9]\n",
      "        changes = False\n",
      "        for a in row[1:]:\n",
      "            if a <.9:\n",
      "                changes = True\n",
      "        if changes:\n",
      "            average_times_if_change.append(sum([1 if x < .9 else 0 for x in row])-1)\n",
      "        changes_bool.append(changes)\n",
      "\n",
      "print \"average of average times\", np.mean(average_times), np.std(average_times)\n",
      "print \"average of average change\", np.mean(average_change), np.std(average_change)\n",
      "print \"average of average times if change\", np.mean(average_times_if_change), np.std(average_times_if_change)\n",
      "print \"percentage of times it changes\", np.mean(changes_bool)\n",
      "plt.hist(average_times, bins=8)\n",
      "plt.title(\"average times it changes\")\n",
      "plt.show()\n",
      "plt.hist(average_change, bins = 15)\n",
      "plt.title(\"average intensity of change\")\n",
      "plt.show()\n",
      "plt.hist(average_times_if_change, bins = 7)\n",
      "plt.title(\"average times of change if change\")\n",
      "plt.show()\n",
      "plt.hist(time_after, bins=8)\n",
      "plt.title(\"when does further change occur\")\n",
      "plt.show()"
     ],
     "language": "python",
     "metadata": {},
     "outputs": [
      {
       "output_type": "stream",
       "stream": "stdout",
       "text": [
        "average of average times 0.865671641791 1.02061617894\n",
        "average of average change 0.968831136577 0.0340656611308\n",
        "average of average times if change 1.56756756757 0.886552403614\n",
        "percentage of times it changes 0.55223880597\n"
       ]
      },
      {
       "metadata": {},
       "output_type": "display_data",
       "png": "[encoded data removed]",
       "text": [
        "<matplotlib.figure.Figure at 0x10986b710>"
       ]
      },
      {
       "metadata": {},
       "output_type": "display_data",
       "png": "[encoded data removed]",
       "text": [
        "<matplotlib.figure.Figure at 0x107f81590>"
       ]
      },
      {
       "metadata": {},
       "output_type": "display_data",
       "png": "[encoded data removed]",
       "text": [
        "<matplotlib.figure.Figure at 0x10987fa50>"
       ]
      },
      {
       "metadata": {},
       "output_type": "display_data",
       "png": "[encoded data removed]",
       "text": [
        "<matplotlib.figure.Figure at 0x107f4f710>"
       ]
      }
     ],
     "prompt_number": 32
    },
    {
     "cell_type": "code",
     "collapsed": false,
     "input": [
      "#calculate percentage of neighbors that have a change of < .9 in ten versions after\n",
      "\n",
      "total = 0\n",
      "yes = 0\n",
      "for key in pickles.keys():\n",
      "    future = pickles[key].neighbor_after[0]\n",
      "    for lst in future:\n",
      "        if min(lst) < .9:\n",
      "            yes += 1\n",
      "        total +=1\n",
      "\n",
      "neighbor_percent = float(yes)/total\n",
      "print neighbor_percent"
     ],
     "language": "python",
     "metadata": {},
     "outputs": [
      {
       "output_type": "stream",
       "stream": "stdout",
       "text": [
        "0.267326732673\n"
       ]
      }
     ],
     "prompt_number": 34
    },
    {
     "cell_type": "code",
     "collapsed": false,
     "input": [
      "#calculate percentage for future linked in ten versions after\n",
      "total_for_all_articles = 0\n",
      "change_for_all_articles = 0\n",
      "print \"hey\"\n",
      "for pkey, pvalue in pickles.iteritems():\n",
      "    current_pickle = get_pickle(pkey+\".pkl\", \"pickles\")\n",
      "    print pkey\n",
      "    versions = pvalue.versions\n",
      "    all_mappings = pvalue.mappings\n",
      "    #current_texts = current_pickle.get_all_text()\n",
      "    current_paras = current_pickle.get_all_paragraphs()\n",
      "    current_paratexts = [[d.text.encode('utf-8') for d in c] for c in current_paras]\n",
      "    article_total = 0\n",
      "    article_change = 0\n",
      "    if pvalue.future_linked:\n",
      "        for lversion, link_array in pvalue.future_linked[0].iteritems():\n",
      "            for a in link_array:\n",
      "                if a[1] or len(a) == 3:\n",
      "                    future_of_linked = get_future_mappings(lversion, a[0][1], 10)\n",
      "                    if future_of_linked:\n",
      "                        success = True\n",
      "                        #print lversion, a[0][1]\n",
      "                        #print \"mapping\",future_of_linked\n",
      "                        min_score = float('inf')\n",
      "                        counter = 0\n",
      "                        while counter < 9:\n",
      "                            try:\n",
      "                                var = Levenshtein.ratio(current_paratexts[lversion+counter][future_of_linked[counter]], current_paratexts[lversion+counter+1][future_of_linked[counter+1]])   \n",
      "                                min_score = min(min_score,var)\n",
      "                                counter+=1\n",
      "                            except:\n",
      "                                var = float('inf')\n",
      "                                success = False\n",
      "                                break\n",
      "\n",
      "                        if min_score < .9 and success:\n",
      "                            article_change +=1\n",
      "                        if success: \n",
      "                            article_total +=1\n",
      "        total_for_all_articles += article_total\n",
      "        change_for_all_articles += article_change\n",
      "overall_percentage =  float(change_for_all_articles) / total_for_all_articles\n",
      "print overall_percentage    \n"
     ],
     "language": "python",
     "metadata": {},
     "outputs": [
      {
       "output_type": "stream",
       "stream": "stdout",
       "text": [
        "hey\n",
        "google"
       ]
      },
      {
       "output_type": "stream",
       "stream": "stdout",
       "text": [
        "\n",
        "apple"
       ]
      },
      {
       "output_type": "stream",
       "stream": "stdout",
       "text": [
        "\n",
        "lauren_bacall"
       ]
      },
      {
       "output_type": "stream",
       "stream": "stdout",
       "text": [
        "\n",
        "Absolute_pitch"
       ]
      },
      {
       "output_type": "stream",
       "stream": "stdout",
       "text": [
        "\n",
        "breaking_bad"
       ]
      },
      {
       "output_type": "stream",
       "stream": "stdout",
       "text": [
        "\n",
        "augustus"
       ]
      },
      {
       "output_type": "stream",
       "stream": "stdout",
       "text": [
        "\n",
        "knapsack_problem"
       ]
      },
      {
       "output_type": "stream",
       "stream": "stdout",
       "text": [
        "\n",
        "the_lion_king"
       ]
      },
      {
       "output_type": "stream",
       "stream": "stdout",
       "text": [
        "\n",
        "james_morrison"
       ]
      },
      {
       "output_type": "stream",
       "stream": "stdout",
       "text": [
        "\n",
        "Piano"
       ]
      },
      {
       "output_type": "stream",
       "stream": "stdout",
       "text": [
        "\n",
        "IBM"
       ]
      },
      {
       "output_type": "stream",
       "stream": "stdout",
       "text": [
        "\n",
        "italy"
       ]
      },
      {
       "output_type": "stream",
       "stream": "stdout",
       "text": [
        "\n",
        "noah"
       ]
      },
      {
       "output_type": "stream",
       "stream": "stdout",
       "text": [
        "\n",
        "battle_of_waterloo"
       ]
      },
      {
       "output_type": "stream",
       "stream": "stdout",
       "text": [
        "\n",
        "Yale_University"
       ]
      },
      {
       "output_type": "stream",
       "stream": "stdout",
       "text": [
        "\n",
        "iphone"
       ]
      },
      {
       "output_type": "stream",
       "stream": "stdout",
       "text": [
        "\n",
        "Octave"
       ]
      },
      {
       "output_type": "stream",
       "stream": "stdout",
       "text": [
        "\n",
        "demis_hassabis"
       ]
      },
      {
       "output_type": "stream",
       "stream": "stdout",
       "text": [
        "\n",
        "One_Direction"
       ]
      },
      {
       "output_type": "stream",
       "stream": "stdout",
       "text": [
        "\n",
        "angela_merkel"
       ]
      },
      {
       "output_type": "stream",
       "stream": "stdout",
       "text": [
        "\n",
        "shinto"
       ]
      },
      {
       "output_type": "stream",
       "stream": "stdout",
       "text": [
        "\n",
        "butterfly"
       ]
      },
      {
       "output_type": "stream",
       "stream": "stdout",
       "text": [
        "\n",
        "otto_von_bismarck"
       ]
      },
      {
       "output_type": "stream",
       "stream": "stdout",
       "text": [
        "\n",
        "mona_lisa"
       ]
      },
      {
       "output_type": "stream",
       "stream": "stdout",
       "text": [
        "\n",
        "python"
       ]
      },
      {
       "output_type": "stream",
       "stream": "stdout",
       "text": [
        "\n",
        "johann_pachelbel"
       ]
      },
      {
       "output_type": "stream",
       "stream": "stdout",
       "text": [
        "\n",
        "neverending_story"
       ]
      },
      {
       "output_type": "stream",
       "stream": "stdout",
       "text": [
        "\n",
        "Violin"
       ]
      },
      {
       "output_type": "stream",
       "stream": "stdout",
       "text": [
        "\n",
        "machine_learning"
       ]
      },
      {
       "output_type": "stream",
       "stream": "stdout",
       "text": [
        "\n",
        "savant_syndrom"
       ]
      },
      {
       "output_type": "stream",
       "stream": "stdout",
       "text": [
        "\n",
        "movie_theater"
       ]
      },
      {
       "output_type": "stream",
       "stream": "stdout",
       "text": [
        "\n",
        "ken_follett"
       ]
      },
      {
       "output_type": "stream",
       "stream": "stdout",
       "text": [
        "\n",
        "to_kill_a_mockingbird"
       ]
      },
      {
       "output_type": "stream",
       "stream": "stdout",
       "text": [
        "\n",
        "oktoberfest"
       ]
      },
      {
       "output_type": "stream",
       "stream": "stdout",
       "text": [
        "\n",
        "soccer"
       ]
      },
      {
       "output_type": "stream",
       "stream": "stdout",
       "text": [
        "\n",
        "Harvard_University"
       ]
      },
      {
       "output_type": "stream",
       "stream": "stdout",
       "text": [
        "\n",
        "Boston"
       ]
      },
      {
       "output_type": "stream",
       "stream": "stdout",
       "text": [
        "\n",
        "graphplan"
       ]
      },
      {
       "output_type": "stream",
       "stream": "stdout",
       "text": [
        "\n",
        "santorini"
       ]
      },
      {
       "output_type": "stream",
       "stream": "stdout",
       "text": [
        "\n",
        "0.0875903803835"
       ]
      },
      {
       "output_type": "stream",
       "stream": "stdout",
       "text": [
        "\n"
       ]
      }
     ],
     "prompt_number": 77
    },
    {
     "cell_type": "code",
     "collapsed": false,
     "input": [
      "#get random sample of streaks of ten and see if change occured percentage\n",
      "total_for_all_articles = 0\n",
      "change_for_all_articles = 0\n",
      "\n",
      "total_looked_at = 0\n",
      "total_trackable = 0\n",
      "for a in os.walk(\"newer_predictions\"):\n",
      "    for b in a[2]:\n",
      "        article_total = 0\n",
      "        article_change = 0\n",
      "        current_pickle = get_pickle(b, \"pickles\")\n",
      "        #current_texts = current_pickle.get_all_text()\n",
      "        current_paras = current_pickle.get_all_paragraphs()\n",
      "        current_paratexts = [[d.text.encode('utf-8') for d in c] for c in current_paras]\n",
      "        obj = get_pickle(b, folder = 'newer_predictions')\n",
      "        \n",
      "        all_mappings = obj.mappings\n",
      "        versions = len(all_mappings) -1\n",
      "        lst = [i for i in xrange(versions)]\n",
      "        for j in xrange(5):\n",
      "            random_list = random.sample(lst,10)        \n",
      "            for v in random_list:\n",
      "                if all_mappings[v].keys():\n",
      "                    k = random.choice(all_mappings[v].keys())\n",
      "                    total_looked_at += 1\n",
      "                    mapping = get_future_mappings(v,k,10)\n",
      "                    if mapping:\n",
      "                        total_trackable += 1\n",
      "                        min_score = float('inf')\n",
      "                        counter = 0\n",
      "                        while counter < 9:\n",
      "                            min_score = min(min_score, Levenshtein.ratio(current_paratexts[v+counter][mapping[counter]], current_paratexts[v+counter+1][mapping[counter+1]]))\n",
      "                            counter+=1\n",
      "\n",
      "                        if min_score < .9:\n",
      "                            article_change +=1\n",
      "                        article_total +=1\n",
      "                    \n",
      "        print b, float(article_change)/article_total\n",
      "        total_for_all_articles += article_total\n",
      "        change_for_all_articles += article_change\n",
      "\n",
      "overall_percentage =  float(change_for_all_articles) / total_for_all_articles\n",
      "print overall_percentage \n",
      "print float(total_trackable)/total_looked_at*100, \"% are still trackable\""
     ],
     "language": "python",
     "metadata": {},
     "outputs": [
      {
       "output_type": "stream",
       "stream": "stdout",
       "text": [
        "Absolute_pitch.pkl 0.219512195122\n",
        "angela_merkel.pkl"
       ]
      },
      {
       "output_type": "stream",
       "stream": "stdout",
       "text": [
        " 0.186046511628\n",
        "apple.pkl"
       ]
      },
      {
       "output_type": "stream",
       "stream": "stdout",
       "text": [
        " 0.0\n",
        "augustus.pkl"
       ]
      },
      {
       "output_type": "stream",
       "stream": "stdout",
       "text": [
        " 0.102564102564\n",
        "battle_of_waterloo.pkl"
       ]
      },
      {
       "output_type": "stream",
       "stream": "stdout",
       "text": [
        " 0.21875\n",
        "Boston.pkl"
       ]
      },
      {
       "output_type": "stream",
       "stream": "stdout",
       "text": [
        " 0.159090909091\n",
        "breaking_bad.pkl"
       ]
      },
      {
       "output_type": "stream",
       "stream": "stdout",
       "text": [
        " 0.125\n",
        "butterfly.pkl"
       ]
      },
      {
       "output_type": "stream",
       "stream": "stdout",
       "text": [
        " 0.0487804878049\n",
        "demis_hassabis.pkl"
       ]
      },
      {
       "output_type": "stream",
       "stream": "stdout",
       "text": [
        " 0.9375\n",
        "google.pkl"
       ]
      },
      {
       "output_type": "stream",
       "stream": "stdout",
       "text": [
        " 0.128205128205\n",
        "graphplan.pkl"
       ]
      },
      {
       "output_type": "stream",
       "stream": "stdout",
       "text": [
        " 1.0\n",
        "Harvard_University.pkl"
       ]
      },
      {
       "output_type": "stream",
       "stream": "stdout",
       "text": [
        " 0.175\n",
        "IBM.pkl"
       ]
      },
      {
       "output_type": "stream",
       "stream": "stdout",
       "text": [
        " 0.139534883721\n",
        "iphone.pkl"
       ]
      },
      {
       "output_type": "stream",
       "stream": "stdout",
       "text": [
        " 0.172413793103\n",
        "italy.pkl"
       ]
      },
      {
       "output_type": "stream",
       "stream": "stdout",
       "text": [
        " 0.0857142857143\n",
        "james_morrison.pkl"
       ]
      },
      {
       "output_type": "stream",
       "stream": "stdout",
       "text": [
        " 0.205128205128\n",
        "johann_pachelbel.pkl"
       ]
      },
      {
       "output_type": "stream",
       "stream": "stdout",
       "text": [
        " 0.0975609756098\n",
        "ken_follett.pkl"
       ]
      },
      {
       "output_type": "stream",
       "stream": "stdout",
       "text": [
        " 0.117647058824\n",
        "knapsack_problem.pkl"
       ]
      },
      {
       "output_type": "stream",
       "stream": "stdout",
       "text": [
        " 0.205882352941\n",
        "lauren_bacall.pkl"
       ]
      },
      {
       "output_type": "stream",
       "stream": "stdout",
       "text": [
        " 0.166666666667\n",
        "machine_learning.pkl"
       ]
      },
      {
       "output_type": "stream",
       "stream": "stdout",
       "text": [
        " 0.238095238095\n",
        "mona_lisa.pkl"
       ]
      },
      {
       "output_type": "stream",
       "stream": "stdout",
       "text": [
        " 0.121951219512\n",
        "movie_theater.pkl"
       ]
      },
      {
       "output_type": "stream",
       "stream": "stdout",
       "text": [
        " 0.116279069767\n",
        "neverending_story.pkl"
       ]
      },
      {
       "output_type": "stream",
       "stream": "stdout",
       "text": [
        " 0.210526315789\n",
        "noah.pkl"
       ]
      },
      {
       "output_type": "stream",
       "stream": "stdout",
       "text": [
        " 0.219512195122\n",
        "Octave.pkl"
       ]
      },
      {
       "output_type": "stream",
       "stream": "stdout",
       "text": [
        " 0.243243243243\n",
        "oktoberfest.pkl"
       ]
      },
      {
       "output_type": "stream",
       "stream": "stdout",
       "text": [
        " 0.09375\n",
        "One_Direction.pkl"
       ]
      },
      {
       "output_type": "stream",
       "stream": "stdout",
       "text": [
        " 0.151515151515\n",
        "otto_von_bismarck.pkl"
       ]
      },
      {
       "output_type": "stream",
       "stream": "stdout",
       "text": [
        " 0.176470588235\n",
        "Piano.pkl"
       ]
      },
      {
       "output_type": "stream",
       "stream": "stdout",
       "text": [
        " 0.136363636364\n",
        "python.pkl"
       ]
      },
      {
       "output_type": "stream",
       "stream": "stdout",
       "text": [
        " 0.0217391304348\n",
        "santorini.pkl"
       ]
      },
      {
       "output_type": "stream",
       "stream": "stdout",
       "text": [
        " 0.175\n",
        "savant_syndrom.pkl"
       ]
      },
      {
       "output_type": "stream",
       "stream": "stdout",
       "text": [
        " 0.142857142857\n",
        "shinto.pkl"
       ]
      },
      {
       "output_type": "stream",
       "stream": "stdout",
       "text": [
        " 0.0243902439024\n",
        "soccer.pkl"
       ]
      },
      {
       "output_type": "stream",
       "stream": "stdout",
       "text": [
        " 0.0681818181818\n",
        "the_lion_king.pkl"
       ]
      },
      {
       "output_type": "stream",
       "stream": "stdout",
       "text": [
        " 0.119047619048\n",
        "to_kill_a_mockingbird.pkl"
       ]
      },
      {
       "output_type": "stream",
       "stream": "stdout",
       "text": [
        " 0.121951219512\n",
        "Violin.pkl"
       ]
      },
      {
       "output_type": "stream",
       "stream": "stdout",
       "text": [
        " 0.136363636364\n",
        "Yale_University.pkl"
       ]
      },
      {
       "output_type": "stream",
       "stream": "stdout",
       "text": [
        " 0.136363636364\n",
        "0.153012863913\n",
        "76.1732851986 % are still trackable\n"
       ]
      }
     ],
     "prompt_number": 79
    },
    {
     "cell_type": "code",
     "collapsed": false,
     "input": [],
     "language": "python",
     "metadata": {},
     "outputs": []
    },
    {
     "cell_type": "code",
     "collapsed": false,
     "input": [],
     "language": "python",
     "metadata": {},
     "outputs": []
    },
    {
     "cell_type": "markdown",
     "metadata": {},
     "source": [
      "## Correlation of initial change and change of neighbor or all paragraphs"
     ]
    },
    {
     "cell_type": "code",
     "collapsed": false,
     "input": [
      "xscattern = []\n",
      "yscattern = []\n",
      "xscattera = []\n",
      "yscattera = []\n",
      "\n",
      "for key in pickles.keys():\n",
      "    xscattern = xscattern + pickles[key].xscatter_initial_n\n",
      "    yscattern = yscattern + pickles[key].yscatter_neighbor\n",
      "    xscattera = xscattera + pickles[key].xscatter_initial_a\n",
      "    yscattera = yscattera + pickles[key].yscatter_all\n",
      "print len(yscattern)\n",
      "\n",
      "print \"correlation, pvalue = \", pearsonr(xscattern, yscattern)\n",
      "plt.scatter(xscattern, yscattern, alpha = 0.2)\n",
      "plt.title(\"initial change of paragraph compared to average change of neighbors\")\n",
      "plt.ylabel(\"avg change of neighbor\")\n",
      "plt.xlabel(\"initial change of paragaraph\")\n",
      "plt.show()\n",
      "print len(yscattera)\n",
      "\n",
      "print \"correlation, pvalue = \", pearsonr(xscattera, yscattera)\n",
      "plt.scatter(xscattera, yscattera, alpha = 0.2)\n",
      "plt.title(\"initial change of paragraph compared to average change of all others\")\n",
      "plt.ylabel(\"avg change of others\")\n",
      "plt.xlabel(\"initial change of paragaraph\")\n",
      "plt.show()"
     ],
     "language": "python",
     "metadata": {},
     "outputs": []
    },
    {
     "cell_type": "code",
     "collapsed": false,
     "input": [
      "new_y_n = []\n",
      "new_x_n = []\n",
      "for i,pt in enumerate(yscattern):\n",
      "    if not pt >= .97:\n",
      "        new_y_n.append(pt)\n",
      "        new_x_n.append(xscattern[i])\n",
      "\n",
      "print len(new_y_n)\n",
      "        \n",
      "new_y_a = []\n",
      "new_x_a = []\n",
      "for i,pt in enumerate(yscattera):\n",
      "    if not pt >= .97:\n",
      "        new_y_a.append(pt)\n",
      "        new_x_a.append(xscattera[i])       \n",
      "\n",
      "print len(new_y_a)\n",
      "\n",
      "print \"correlation, pvalue = \", pearsonr(new_x_n, new_y_n)\n",
      "plt.scatter(new_x_n, new_y_n, alpha = 0.2)\n",
      "plt.title(\"initial change of paragraph compared to average change of neighbors\")\n",
      "plt.ylabel(\"avg change of neighbor\")\n",
      "plt.xlabel(\"initial change of paragaraph\")\n",
      "plt.show()\n",
      "\n",
      "print \"correlation, pvalue = \", pearsonr(new_x_a, new_y_a)\n",
      "plt.scatter(new_x_a, new_y_a, alpha = 0.2)\n",
      "plt.title(\"initial change of paragraph compared to average change of all others\")\n",
      "plt.ylabel(\"avg change of others\")\n",
      "plt.xlabel(\"initial change of paragaraph\")\n",
      "plt.show()"
     ],
     "language": "python",
     "metadata": {},
     "outputs": []
    },
    {
     "cell_type": "markdown",
     "metadata": {},
     "source": [
      "When an initial change of a paragraph happens, the neighboring paragraphs have changes len(new_y_n) / len(yscattern) of the time, which is 172/394 = 43%. The all paragraphs have changes len(new_y_a) / len(yscattera) of the time, which is 2357/8054 = 29%."
     ]
    },
    {
     "cell_type": "code",
     "collapsed": false,
     "input": [
      "#linked by changing together total stats\n",
      "\n",
      "link_data = []\n",
      "link_percentages = []\n",
      "link_totals = []\n",
      "link_success_totals = []\n",
      "\n",
      "sum_link_total = 0\n",
      "sum_link_trackable = 0\n",
      "sum_link_success = 0 \n",
      "\n",
      "sum_counter = 0\n",
      "sum_link_success_ratio = 0\n",
      "\n",
      "\n",
      "for key, value in pickles.iteritems():\n",
      "    if value.future_linked:\n",
      "        curr_link_data = value.future_linked[1]\n",
      "        link_data.append(curr_link_data)\n",
      "        sum_link_total += curr_link_data[2]\n",
      "        sum_link_trackable += curr_link_data[1]\n",
      "        sum_link_success += curr_link_data[0]\n",
      "\n",
      "        if curr_link_data[2] != 0:\n",
      "            sum_link_success_ratio += float(curr_link_data[0])/curr_link_data[2]\n",
      "            sum_counter+=1\n",
      "            link_percentages.append(float(curr_link_data[0])/curr_link_data[2])\n",
      "            link_totals.append(curr_link_data[2])\n",
      "            link_success_totals.append(curr_link_data[0])\n",
      "        \n",
      "sum_link_success_ratio /=sum_counter\n",
      "\n",
      "print sum_link_total\n",
      "print sum_link_trackable\n",
      "print sum_link_success\n",
      "print sum_link_success_ratio\n",
      "print float(sum_link_success)/sum_link_trackable\n",
      "print float(sum_link_success)/sum_link_total\n",
      "print float(sum_link_trackable)/sum_link_total\n",
      "\n",
      "\n",
      "\n"
     ],
     "language": "python",
     "metadata": {},
     "outputs": [
      {
       "output_type": "stream",
       "stream": "stdout",
       "text": [
        "36191\n",
        "27722\n",
        "19685\n",
        "0.496582859778\n",
        "0.710085852392\n",
        "0.543919759056\n",
        "0.765991544859\n"
       ]
      }
     ],
     "prompt_number": 47
    },
    {
     "cell_type": "code",
     "collapsed": false,
     "input": [
      "#linked by changing together plots\n",
      "remove_border()\n",
      "plt.ylabel(\"frequency\")\n",
      "plt.xlabel(\"accuracy\")\n",
      "plt.grid(axis = 'y', color = 'white', linestyle = '-')\n",
      "\n",
      "plt.title(\"Histogram of percent of linked paragraphs remaining linked / all\")\n",
      "plt.hist(link_percentages)"
     ],
     "language": "python",
     "metadata": {},
     "outputs": []
    },
    {
     "cell_type": "code",
     "collapsed": false,
     "input": [
      "#linked by changing together correlation - shows articles are consistent\n",
      "\n",
      "print pearsonr(link_totals, link_success_totals)\n"
     ],
     "language": "python",
     "metadata": {},
     "outputs": []
    },
    {
     "cell_type": "code",
     "collapsed": false,
     "input": [
      "#linked by changing together correlation - shows articles are consistent\n",
      "m,c = np.polyfit(link_totals, link_success_totals, 1)\n",
      "plt.plot(link_totals, link_success_totals, marker='o', linestyle = '')\n",
      "plt.plot(link_totals, m*np.array(link_totals)+c)\n",
      "remove_border()\n",
      "plt.ylabel(\"Number of links that remain linked\")\n",
      "plt.xlabel(\"Total trackable links found\")\n",
      "plt.title(\"Correlation between trackable links and quantity that remain linked\")\n",
      "plt.show()"
     ],
     "language": "python",
     "metadata": {},
     "outputs": []
    },
    {
     "cell_type": "code",
     "collapsed": false,
     "input": [
      "#linked by similarity total stats\n",
      "\n",
      "link_data = []\n",
      "link_percentages = []\n",
      "link_totals = []\n",
      "link_success_totals = []\n",
      "\n",
      "sum_link_total = 0\n",
      "sum_link_trackable = 0\n",
      "sum_link_success = 0 \n",
      "\n",
      "sum_counter = 0\n",
      "sum_link_success_ratio = 0\n",
      "\n",
      "\n",
      "for key, value in linked_pickles.iteritems():\n",
      "    curr_link_data = value.similarity_linked[1]\n",
      "    link_data.append(curr_link_data)\n",
      "    sum_link_total += curr_link_data[2]\n",
      "    sum_link_trackable += curr_link_data[1]\n",
      "    sum_link_success += curr_link_data[0]\n",
      "    \n",
      "    if curr_link_data[2] != 0:\n",
      "        sum_link_success_ratio += float(curr_link_data[0])/curr_link_data[2]\n",
      "        sum_counter+=1\n",
      "        link_percentages.append(float(curr_link_data[0])/curr_link_data[2])\n",
      "        link_totals.append(curr_link_data[2])\n",
      "        link_success_totals.append(curr_link_data[0])\n",
      "        \n",
      "sum_link_success_ratio /=sum_counter\n",
      "\n",
      "print sum_link_total\n",
      "print sum_link_trackable\n",
      "print sum_link_success\n",
      "print sum_link_success_ratio\n",
      "print float(sum_link_success)/sum_link_trackable\n",
      "print float(sum_link_success)/sum_link_total\n",
      "print float(sum_link_trackable)/sum_link_total\n",
      "\n",
      "\n"
     ],
     "language": "python",
     "metadata": {},
     "outputs": [
      {
       "output_type": "stream",
       "stream": "stdout",
       "text": [
        "3587\n",
        "1869\n",
        "1203\n",
        "0.297977518298\n",
        "0.643659711075\n",
        "0.335377752997\n",
        "0.521048229718\n"
       ]
      }
     ],
     "prompt_number": 38
    },
    {
     "cell_type": "markdown",
     "metadata": {},
     "source": [
      "#author stuff\n",
      "before 80 stuff- how many people account for 80% of all changes (graphs and percentages)\n",
      "authors with sig changes- ratio of how many make sig changes compared to total authors\n"
     ]
    },
    {
     "cell_type": "code",
     "collapsed": false,
     "input": [
      "author_pickles = {}\n",
      "for a in os.walk(\"author_predictions\"):\n",
      "    for b in a[2]:\n",
      "        empty_class = prediction_pickle()\n",
      "        empty_class = get_pickle(b, \"author_predictions\")\n",
      "        author_pickles[b[:-4]] = empty_class"
     ],
     "language": "python",
     "metadata": {},
     "outputs": [],
     "prompt_number": 7
    },
    {
     "cell_type": "code",
     "collapsed": false,
     "input": [
      "eighty_list = []\n",
      "average_of_a = []\n",
      "\n",
      "for k,p in author_pickles.iteritems():\n",
      "    z = p.author_cumulatives\n",
      "    total = p.total_authors\n",
      "    for a,b in enumerate(z):\n",
      "        if b > .8:\n",
      "            if a > 20:\n",
      "                print k\n",
      "            eighty_list.append(float(a)/total)\n",
      "            average_of_a.append(a)\n",
      "            break\n",
      "            \n"
     ],
     "language": "python",
     "metadata": {},
     "outputs": [
      {
       "output_type": "stream",
       "stream": "stdout",
       "text": [
        "Absolute_pitch\n",
        "IBM\n",
        "italy\n",
        "iphone\n",
        "machine_learning\n",
        "savant_syndrom\n"
       ]
      }
     ],
     "prompt_number": 8
    },
    {
     "cell_type": "code",
     "collapsed": false,
     "input": [
      "print np.mean(average_of_a)"
     ],
     "language": "python",
     "metadata": {},
     "outputs": [
      {
       "output_type": "stream",
       "stream": "stdout",
       "text": [
        "14.8974358974\n"
       ]
      }
     ],
     "prompt_number": 9
    },
    {
     "cell_type": "code",
     "collapsed": false,
     "input": [
      "print np.std(average_of_a)"
     ],
     "language": "python",
     "metadata": {},
     "outputs": [
      {
       "output_type": "stream",
       "stream": "stdout",
       "text": [
        "7.70545884354\n"
       ]
      }
     ],
     "prompt_number": 10
    },
    {
     "cell_type": "code",
     "collapsed": false,
     "input": [
      "#linked by changing together plots\n",
      "remove_border()\n",
      "plt.ylabel(\"frequency\")\n",
      "plt.xlabel(\"number of authors who account for 80% of the changes\")\n",
      "plt.grid(axis = 'y', color = 'white', linestyle = '-')\n",
      "\n",
      "plt.title(\"Histogram of number of authors who account for 80% of the changes\")\n",
      "plt.hist(eighty_list, bins=20)\n",
      "plt.show()"
     ],
     "language": "python",
     "metadata": {},
     "outputs": [
      {
       "metadata": {},
       "output_type": "display_data",
       "png": "[encoded data removed]",
       "text": [
        "<matplotlib.figure.Figure at 0x10713eb90>"
       ]
      }
     ],
     "prompt_number": 11
    },
    {
     "cell_type": "markdown",
     "metadata": {},
     "source": [
      "#False Negatives"
     ]
    },
    {
     "cell_type": "code",
     "collapsed": false,
     "input": [
      "false_neg_pickles = {}\n",
      "for a in os.walk(\"false_neg\"):\n",
      "    for b in a[2]:\n",
      "        empty_class = prediction_pickle()\n",
      "        empty_class = get_pickle(b, \"false_neg\")\n",
      "        false_neg_pickles[b[:-4]] = empty_class"
     ],
     "language": "python",
     "metadata": {},
     "outputs": [],
     "prompt_number": 37
    },
    {
     "cell_type": "code",
     "collapsed": false,
     "input": [
      "total_future_links = 0\n",
      "total_links_initial = 0\n",
      "total_links_found = 0\n",
      "total_number_links_predicted = 0\n",
      "list_of_actual = []\n",
      "list_of_estimated = []\n",
      "\n",
      "for k,p in false_neg_pickles.iteritems():\n",
      "    (future_links,links_in_initial,number_of_links_found,number_of_links_predicted, actual_average, estimated_average) = p.false_neg\n",
      "    total_future_links += future_links\n",
      "    total_links_initial += links_in_initial\n",
      "    total_links_found += number_of_links_found\n",
      "    total_number_links_predicted += number_of_links_predicted\n",
      "    list_of_actual.append(actual_average)\n",
      "    list_of_estimated.append(estimated_average)\n",
      "\n",
      "print float(total_links_initial)/total_future_links\n",
      "print float(total_links_found)/total_number_links_predicted\n",
      "print np.mean(list_of_actual)\n",
      "print np.std(list_of_actual)"
     ],
     "language": "python",
     "metadata": {},
     "outputs": [
      {
       "output_type": "stream",
       "stream": "stdout",
       "text": [
        "0.812299270073\n",
        "0.757584968223\n",
        "0.793504085226\n",
        "0.0667205363517\n"
       ]
      }
     ],
     "prompt_number": 38
    },
    {
     "cell_type": "code",
     "collapsed": false,
     "input": [
      "#histogram\n",
      "remove_border()\n",
      "plt.ylabel(\"frequency\")\n",
      "plt.xlabel(\"actual average, initial links / future links\")\n",
      "plt.grid(axis = 'y', color = 'white', linestyle = '-')\n",
      "\n",
      "plt.title(\"Histogram of averages for actual initial links / future links\")\n",
      "plt.hist(list_of_actual, bins=20)\n",
      "plt.show()  "
     ],
     "language": "python",
     "metadata": {},
     "outputs": [
      {
       "metadata": {},
       "output_type": "display_data",
       "png": "[encoded data removed]",
       "text": [
        "<matplotlib.figure.Figure at 0x109eb6b50>"
       ]
      }
     ],
     "prompt_number": 39
    },
    {
     "cell_type": "code",
     "collapsed": false,
     "input": [
      "#estimated\n",
      "remove_border()\n",
      "plt.ylabel(\"frequency\")\n",
      "plt.xlabel(\"estimated average, initial links / future links\")\n",
      "plt.grid(axis = 'y', color = 'white', linestyle = '-')\n",
      "\n",
      "plt.title(\"Histogram of averages for estimated initial links / future links\")\n",
      "plt.hist(list_of_estimated, bins=20)\n",
      "plt.show()  "
     ],
     "language": "python",
     "metadata": {},
     "outputs": [
      {
       "metadata": {},
       "output_type": "display_data",
       "png": "[encoded data removed]",
       "text": [
        "<matplotlib.figure.Figure at 0x103780c10>"
       ]
      }
     ],
     "prompt_number": 40
    },
    {
     "cell_type": "markdown",
     "metadata": {},
     "source": [
      "# length of average para in versions"
     ]
    },
    {
     "cell_type": "code",
     "collapsed": false,
     "input": [
      "def get_backward_mapping_indefinite(version,index,min_past, all_mappings = None, versions = None):\n",
      "    \n",
      "    lst = [index]\n",
      "    broken = False\n",
      "    past = 0\n",
      "    while not broken:\n",
      "        i = None\n",
      "        if version - 1 >= 0:\n",
      "            for key, value in all_mappings[version-1].iteritems():\n",
      "                if value == index:\n",
      "                    i = key\n",
      "        if not i:\n",
      "            broken = True\n",
      "        else:\n",
      "            lst.append(i)\n",
      "            version -= 1\n",
      "            past +=1\n",
      "    if past > min_past:\n",
      "        lst.reverse()\n",
      "        return lst\n",
      "    return None"
     ],
     "language": "python",
     "metadata": {},
     "outputs": [],
     "prompt_number": 48
    },
    {
     "cell_type": "code",
     "collapsed": false,
     "input": [
      "def get_future_mappings_indefinite(version,index,min_future, all_mappings = None,versions = None):\n",
      "    \n",
      "    \n",
      "    lst = [index]\n",
      "    broken = False\n",
      "    future = 0\n",
      "    while not broken:\n",
      "        i = None\n",
      "        if version < versions:\n",
      "        \n",
      "            for key, value in all_mappings[version+1].iteritems():\n",
      "                if value == index:\n",
      "                    i = key\n",
      "        if not i:\n",
      "            broken = True\n",
      "        else:\n",
      "            lst.append(i)\n",
      "            version += 1\n",
      "            future +=1\n",
      "    if future > min_future:\n",
      "        return lst\n",
      "    return None"
     ],
     "language": "python",
     "metadata": {},
     "outputs": [],
     "prompt_number": 49
    },
    {
     "cell_type": "code",
     "collapsed": false,
     "input": [
      "list_of_averages = []\n",
      "list_of_lengths = []\n",
      "\n",
      "for name,p in pickles.iteritems():\n",
      "    mapping = p.mappings\n",
      "    if p.versions > 300:\n",
      "        lengths = []\n",
      "        lst = [i for i in xrange(p.versions)]\n",
      "        for j in xrange(10):\n",
      "            random_list = random.sample(lst,10)        \n",
      "            for v in random_list:\n",
      "                if mapping[v].keys():\n",
      "                    k = random.choice(mapping[v].keys())\n",
      "                    back = get_backward_mapping_indefinite(v,k,1,mapping,p.versions)\n",
      "                    if not back:\n",
      "                        back = [1]\n",
      "                    forward = get_future_mappings_indefinite(v,k,1, mapping, p.versions)\n",
      "                    if not forward:\n",
      "                        forward = [1]\n",
      "                    length = len(back) + len(forward) - 1\n",
      "                    lengths.append(length)\n",
      "                    list_of_lengths.append(length)\n",
      "\n",
      "        avg = np.mean(lengths)\n",
      "        if avg > 200:\n",
      "            print name\n",
      "\n",
      "        list_of_averages.append(avg)\n",
      "\n",
      "print np.mean(list_of_averages)\n",
      "print np.std(list_of_averages)\n",
      "print\n",
      "print np.mean(list_of_lengths)\n",
      "print np.std(list_of_lengths)"
     ],
     "language": "python",
     "metadata": {},
     "outputs": [
      {
       "output_type": "stream",
       "stream": "stdout",
       "text": [
        "python\n",
        "85.3814414782"
       ]
      },
      {
       "output_type": "stream",
       "stream": "stdout",
       "text": [
        "\n",
        "35.0362939217\n",
        "\n",
        "85.4766548463\n",
        "77.905945437\n"
       ]
      }
     ],
     "prompt_number": 79
    },
    {
     "cell_type": "code",
     "collapsed": false,
     "input": [
      "\n",
      "remove_border()\n",
      "plt.ylabel(\"frequency\")\n",
      "plt.xlabel(\"length of linking\")\n",
      "plt.grid(axis = 'y', color = 'white', linestyle = '-')\n",
      "\n",
      "plt.title(\"Histogram of linking lengths\")\n",
      "plt.hist(list_of_lengths, bins=20)\n",
      "plt.show()  "
     ],
     "language": "python",
     "metadata": {},
     "outputs": [
      {
       "metadata": {},
       "output_type": "display_data",
       "png": "[encoded data removed]",
       "text": [
        "<matplotlib.figure.Figure at 0x10ace9710>"
       ]
      }
     ],
     "prompt_number": 81
    },
    {
     "cell_type": "code",
     "collapsed": false,
     "input": [],
     "language": "python",
     "metadata": {},
     "outputs": []
    }
   ],
   "metadata": {}
  }
 ]
}
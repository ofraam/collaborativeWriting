{
 "metadata": {
  "name": ""
 },
 "nbformat": 3,
 "nbformat_minor": 0,
 "worksheets": [
  {
   "cells": [
    {
     "cell_type": "markdown",
     "metadata": {},
     "source": [
      "# Old code"
     ]
    },
    {
     "cell_type": "markdown",
     "metadata": {},
     "source": [
      "This notebook is used to store old code snippets that we might use in the future again but do not want to have in the main process book in order for it to not get too long."
     ]
    },
    {
     "cell_type": "markdown",
     "metadata": {},
     "source": [
      "##1. reduce_text_set\n",
      "\n",
      "Was used to delete some unnecessary versions. modified version of it is now inbuild in the pickle creator in version.py and parser2.py.\n",
      "\n",
      "###Usage\n",
      "\n",
      "reduce_text: after opening the pickle it can be used to reduce the data set by deleting redundant revisions)\n",
      "        text_array = reduce_text(text_array)     "
     ]
    },
    {
     "cell_type": "code",
     "collapsed": false,
     "input": [
      "\n",
      "def reduce_text_set(text_set, min_ratio = 5):\n",
      "    \"\"\"\n",
      "    first delets revisions with not enough text (parsing error) and the longest (vandalism in some cases)\n",
      "    deletes all revisions with Levenshtein distance <= a certain value\n",
      "    \"\"\"\n",
      "    \n",
      "    text_set = [x for x in text_set if not len(x) < 150]\n",
      "    max_index = text_set.index(max(map(lambda x: (len(x), x), text_set))[1])\n",
      "    merkel_max = text_set.pop(max_index)\n",
      "    \n",
      "    new_set = []\n",
      "    L_distance_set = []\n",
      "    for i in xrange(len(text_set)):\n",
      "        if i< len(text_set)-1:\n",
      "            L_distance_set.append(Levenshtein.distance(text_set[i], text_set[i+1]))\n",
      "     \n",
      "    new_set.append(text_set[0])\n",
      "    for i, v in enumerate(L_distance_set):\n",
      "        if v > min_ratio:\n",
      "            new_set.append(text_set[i+1])\n",
      "            \n",
      "    return new_set"
     ],
     "language": "python",
     "metadata": {},
     "outputs": [],
     "prompt_number": 1
    },
    {
     "cell_type": "markdown",
     "metadata": {},
     "source": [
      "##2. formatparas\n",
      "\n",
      "Was used to format paragraphs, now also in the pickle creator."
     ]
    },
    {
     "cell_type": "code",
     "collapsed": false,
     "input": [
      "\n",
      "def formatparas(version):\n",
      "    '''\n",
      "    formats paragraphs, deletes empty ones and merges ones without punctuation and lists\n",
      "    '''\n",
      "    indices = range(len(version))\n",
      "    indices.reverse()\n",
      "    for paraindex in indices:\n",
      "        para = version[paraindex]\n",
      "        #if empty\n",
      "        if not para:\n",
      "            version.pop(paraindex)\n",
      "        else:   \n",
      "            #if not on last index\n",
      "            if not paraindex == len(version)-1:    \n",
      "                #if last character is not a ., !, or ? or if first char of next paragraph is bullet\n",
      "                if (not para[-1] in [('.').encode(\"UTF-8\"),('!').encode(\"UTF-8\"),('?').encode(\"UTF-8\")]) or version[paraindex+1][0] == ('*').encode(\"UTF-8\"):        \n",
      "                    version[paraindex] = version[paraindex] + version[paraindex+1]\n",
      "                    version.pop(paraindex+1)\n",
      "\n",
      "    return version"
     ],
     "language": "python",
     "metadata": {},
     "outputs": [],
     "prompt_number": 2
    },
    {
     "cell_type": "code",
     "collapsed": false,
     "input": [],
     "language": "python",
     "metadata": {},
     "outputs": []
    }
   ],
   "metadata": {}
  }
 ]
}
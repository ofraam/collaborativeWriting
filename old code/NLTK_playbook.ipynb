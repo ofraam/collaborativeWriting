{
 "metadata": {
  "name": "",
  "signature": "sha256:82e6d196e485de03aeedf4019d0aabc7dac2787e334717e891a92c12070d08dc"
 },
 "nbformat": 3,
 "nbformat_minor": 0,
 "worksheets": [
  {
   "cells": [
    {
     "cell_type": "code",
     "collapsed": false,
     "input": [
      "%matplotlib inline"
     ],
     "language": "python",
     "metadata": {},
     "outputs": [],
     "prompt_number": 7
    },
    {
     "cell_type": "markdown",
     "metadata": {},
     "source": [
      "I go through all the functions in http://www.nltk.org/api/nltk.html to evaluate whether there is something we can use immediatly"
     ]
    },
    {
     "cell_type": "code",
     "collapsed": false,
     "input": [
      "text_to_analyze = \"Iron Man is a fictional character, a superhero that appears in comic \\\n",
      "books published by Marvel Comics. The character was created by writer-editor \\\n",
      "Stan Lee, developed by scripter Larry Lieber, and designed by artists Don Heck and Jack Kirby. \\\n",
      "He made his first appearance in Tales of Suspense #39 (March 1963). \\n\\\n",
      "An American billionaire playboy, industrialist, and ingenious engineer, \\\n",
      "Tony Stark suffers a severe chest injury during a kidnapping in which his captors \\\n",
      "attempt to force him to build a weapon of mass destruction. He instead creates a powered \\\n",
      "suit of armor to save his life and escape captivity. He later uses the suit and successive versions \\\n",
      "to protect the world as Iron Man. Through his corporation \u2015 Stark Industries \u2015 Tony has created many \\\n",
      "military weapons, some of which, along with other technological devices of his making, have been \\\n",
      "integrated into his suit, helping him fight crime. Initially, Iron Man was a vehicle for Stan Lee to \\\n",
      "explore Cold War themes, particularly the role of American technology and business in the fight against communism. \\\n",
      "Subsequent re-imaginings of Iron Man have transitioned from Cold War themes to contemporary concerns, \\\n",
      "such as corporate crime and terrorism. \\n\\\n",
      "Throughout most of the character's publication history, Iron Man has been a \\\n",
      "founding member of the superhero team the Avengers and has been featured in several \\\n",
      "incarnations of his own various comic book series. Iron Man has been adapted for several \\\n",
      "animated TV shows and films. The character is portrayed by Robert Downey, Jr. in the live \\\n",
      "action film Iron Man (2008), which was a critical and box office success. Downey, \\\n",
      "who received much acclaim for his performance, reprised the role in two Iron Man \\\n",
      "sequels and The Avengers (2012), and will do so again in Avengers: Age of Ultron (2015). \\\n",
      "Iron Man was ranked 12th on IGN's Top 100 Comic Book Heroes in 2011.\""
     ],
     "language": "python",
     "metadata": {},
     "outputs": [],
     "prompt_number": 2
    },
    {
     "cell_type": "code",
     "collapsed": false,
     "input": [
      "print text_to_analyze"
     ],
     "language": "python",
     "metadata": {},
     "outputs": [
      {
       "output_type": "stream",
       "stream": "stdout",
       "text": [
        "Iron Man is a fictional character, a superhero that appears in comic books published by Marvel Comics. The character was created by writer-editor Stan Lee, developed by scripter Larry Lieber, and designed by artists Don Heck and Jack Kirby. He made his first appearance in Tales of Suspense #39 (March 1963). \n",
        "An American billionaire playboy, industrialist, and ingenious engineer, Tony Stark suffers a severe chest injury during a kidnapping in which his captors attempt to force him to build a weapon of mass destruction. He instead creates a powered suit of armor to save his life and escape captivity. He later uses the suit and successive versions to protect the world as Iron Man. Through his corporation \u2015 Stark Industries \u2015 Tony has created many military weapons, some of which, along with other technological devices of his making, have been integrated into his suit, helping him fight crime. Initially, Iron Man was a vehicle for Stan Lee to explore Cold War themes, particularly the role of American technology and business in the fight against communism. Subsequent re-imaginings of Iron Man have transitioned from Cold War themes to contemporary concerns, such as corporate crime and terrorism. \n",
        "Throughout most of the character's publication history, Iron Man has been a founding member of the superhero team the Avengers and has been featured in several incarnations of his own various comic book series. Iron Man has been adapted for several animated TV shows and films. The character is portrayed by Robert Downey, Jr. in the live action film Iron Man (2008), which was a critical and box office success. Downey, who received much acclaim for his performance, reprised the role in two Iron Man sequels and The Avengers (2012), and will do so again in Avengers: Age of Ultron (2015). Iron Man was ranked 12th on IGN's Top 100 Comic Book Heroes in 2011.\n"
       ]
      }
     ],
     "prompt_number": 3
    },
    {
     "cell_type": "code",
     "collapsed": false,
     "input": [
      "import nltk\n",
      "import nltk.data"
     ],
     "language": "python",
     "metadata": {},
     "outputs": [],
     "prompt_number": 4
    },
    {
     "cell_type": "code",
     "collapsed": false,
     "input": [
      "#wrapper for texts\n",
      "#nltk_text = nltk.text.Text(text_to_analyze)\n",
      "\n",
      "#NEED TO TOKENIZE FIRST!! THEN create text object!\n",
      "nltk_tokens = nltk.word_tokenize(text_to_analyze)\n",
      "nltk_text = nltk.text.Text(nltk_tokens)"
     ],
     "language": "python",
     "metadata": {},
     "outputs": [],
     "prompt_number": 5
    },
    {
     "cell_type": "code",
     "collapsed": false,
     "input": [
      "#bigram analysis\n",
      "nltk_text.collocations()"
     ],
     "language": "python",
     "metadata": {},
     "outputs": [
      {
       "output_type": "stream",
       "stream": "stdout",
       "text": [
        "Building collocations list\n",
        "Iron Man; Cold War; Stan Lee; War themes\n"
       ]
      }
     ],
     "prompt_number": 6
    },
    {
     "cell_type": "code",
     "collapsed": false,
     "input": [
      "#context of words. it somehow splits words into letters and only one letter words work here?\n",
      "nltk_text.common_contexts(['iron'])"
     ],
     "language": "python",
     "metadata": {},
     "outputs": [
      {
       "output_type": "stream",
       "stream": "stdout",
       "text": [
        "Building word-context index...\n",
        "*START*_man ,_man ._man as_man. film_man of_man series._man two_man\n"
       ]
      }
     ],
     "prompt_number": 7
    },
    {
     "cell_type": "code",
     "collapsed": false,
     "input": [
      "#count occurences of words\n",
      "nltk_text.count(\"Iron\")"
     ],
     "language": "python",
     "metadata": {},
     "outputs": [
      {
       "metadata": {},
       "output_type": "pyout",
       "prompt_number": 8,
       "text": [
        "9"
       ]
      }
     ],
     "prompt_number": 8
    },
    {
     "cell_type": "code",
     "collapsed": false,
     "input": [
      "#data is probably helpful!\n",
      "nltk_text.dispersion_plot([\"Iron\", \"Man\", \"superhero\", \"Stan\", \"verhicle\", \"and\"])"
     ],
     "language": "python",
     "metadata": {},
     "outputs": [
      {
       "metadata": {},
       "output_type": "display_data",
       "png": "[encoded data removed]",
       "text": [
        "<matplotlib.figure.Figure at 0x7628ac8>"
       ]
      }
     ],
     "prompt_number": 9
    },
    {
     "cell_type": "code",
     "collapsed": false,
     "input": [
      "#funny thing. builds ngrams and generates a random text\n",
      "nltk_text.generate()"
     ],
     "language": "python",
     "metadata": {},
     "outputs": [
      {
       "output_type": "stream",
       "stream": "stdout",
       "text": [
        "Building ngram index...\n",
        "Iron Man sequels and The Avengers ( 2012 ) , which was a critical and\n",
        "box office success. Downey , Jr. in the live action film Iron Man was\n",
        "a vehicle for Stan Lee , developed by scripter Larry Lieber , and\n",
        "ingenious engineer , Tony Stark suffers a severe chest injury during a\n",
        "kidnapping in which his captors attempt to force him to build a weapon\n",
        "of mass destruction. He instead creates a powered suit of armor to\n",
        "save his life and escape captivity. He later uses the suit and\n",
        "successive versions to protect the world as Iron Man.\n"
       ]
      }
     ],
     "prompt_number": 10
    },
    {
     "cell_type": "code",
     "collapsed": false,
     "input": [
      "#has an encoding error for some symbols but plot still works\n",
      "nltk_text.plot()"
     ],
     "language": "python",
     "metadata": {},
     "outputs": [
      {
       "ename": "UnicodeDecodeError",
       "evalue": "'ascii' codec can't decode byte 0xe2 in position 0: ordinal not in range(128)",
       "output_type": "pyerr",
       "traceback": [
        "\u001b[1;31m---------------------------------------------------------------------------\u001b[0m\n\u001b[1;31mUnicodeDecodeError\u001b[0m                        Traceback (most recent call last)",
        "\u001b[1;32m<ipython-input-11-01534331c39c>\u001b[0m in \u001b[0;36m<module>\u001b[1;34m()\u001b[0m\n\u001b[0;32m      1\u001b[0m \u001b[1;31m#has an encoding error for some symbols but plot still works\u001b[0m\u001b[1;33m\u001b[0m\u001b[1;33m\u001b[0m\u001b[0m\n\u001b[1;32m----> 2\u001b[1;33m \u001b[0mnltk_text\u001b[0m\u001b[1;33m.\u001b[0m\u001b[0mplot\u001b[0m\u001b[1;33m(\u001b[0m\u001b[1;33m)\u001b[0m\u001b[1;33m\u001b[0m\u001b[0m\n\u001b[0m",
        "\u001b[1;32mC:\\Anaconda\\lib\\site-packages\\nltk\\text.pyc\u001b[0m in \u001b[0;36mplot\u001b[1;34m(self, *args)\u001b[0m\n\u001b[0;32m    461\u001b[0m         \u001b[1;33m:\u001b[0m\u001b[0mseealso\u001b[0m\u001b[1;33m:\u001b[0m \u001b[0mnltk\u001b[0m\u001b[1;33m.\u001b[0m\u001b[0mprob\u001b[0m\u001b[1;33m.\u001b[0m\u001b[0mFreqDist\u001b[0m\u001b[1;33m.\u001b[0m\u001b[0mplot\u001b[0m\u001b[1;33m(\u001b[0m\u001b[1;33m)\u001b[0m\u001b[1;33m\u001b[0m\u001b[0m\n\u001b[0;32m    462\u001b[0m         \"\"\"\n\u001b[1;32m--> 463\u001b[1;33m         \u001b[0mself\u001b[0m\u001b[1;33m.\u001b[0m\u001b[0mvocab\u001b[0m\u001b[1;33m(\u001b[0m\u001b[1;33m)\u001b[0m\u001b[1;33m.\u001b[0m\u001b[0mplot\u001b[0m\u001b[1;33m(\u001b[0m\u001b[1;33m*\u001b[0m\u001b[0margs\u001b[0m\u001b[1;33m)\u001b[0m\u001b[1;33m\u001b[0m\u001b[0m\n\u001b[0m\u001b[0;32m    464\u001b[0m \u001b[1;33m\u001b[0m\u001b[0m\n\u001b[0;32m    465\u001b[0m     \u001b[1;32mdef\u001b[0m \u001b[0mvocab\u001b[0m\u001b[1;33m(\u001b[0m\u001b[0mself\u001b[0m\u001b[1;33m)\u001b[0m\u001b[1;33m:\u001b[0m\u001b[1;33m\u001b[0m\u001b[0m\n",
        "\u001b[1;32mC:\\Anaconda\\lib\\site-packages\\nltk\\probability.pyc\u001b[0m in \u001b[0;36mplot\u001b[1;34m(self, *args, **kwargs)\u001b[0m\n\u001b[0;32m    313\u001b[0m             \u001b[1;32mdel\u001b[0m \u001b[0mkwargs\u001b[0m\u001b[1;33m[\u001b[0m\u001b[1;34m\"title\"\u001b[0m\u001b[1;33m]\u001b[0m\u001b[1;33m\u001b[0m\u001b[0m\n\u001b[0;32m    314\u001b[0m         \u001b[0mpylab\u001b[0m\u001b[1;33m.\u001b[0m\u001b[0mplot\u001b[0m\u001b[1;33m(\u001b[0m\u001b[0mfreqs\u001b[0m\u001b[1;33m,\u001b[0m \u001b[1;33m**\u001b[0m\u001b[0mkwargs\u001b[0m\u001b[1;33m)\u001b[0m\u001b[1;33m\u001b[0m\u001b[0m\n\u001b[1;32m--> 315\u001b[1;33m         \u001b[0mpylab\u001b[0m\u001b[1;33m.\u001b[0m\u001b[0mxticks\u001b[0m\u001b[1;33m(\u001b[0m\u001b[0mrange\u001b[0m\u001b[1;33m(\u001b[0m\u001b[0mlen\u001b[0m\u001b[1;33m(\u001b[0m\u001b[0msamples\u001b[0m\u001b[1;33m)\u001b[0m\u001b[1;33m)\u001b[0m\u001b[1;33m,\u001b[0m \u001b[1;33m[\u001b[0m\u001b[0municode\u001b[0m\u001b[1;33m(\u001b[0m\u001b[0ms\u001b[0m\u001b[1;33m)\u001b[0m \u001b[1;32mfor\u001b[0m \u001b[0ms\u001b[0m \u001b[1;32min\u001b[0m \u001b[0msamples\u001b[0m\u001b[1;33m]\u001b[0m\u001b[1;33m,\u001b[0m \u001b[0mrotation\u001b[0m\u001b[1;33m=\u001b[0m\u001b[1;36m90\u001b[0m\u001b[1;33m)\u001b[0m\u001b[1;33m\u001b[0m\u001b[0m\n\u001b[0m\u001b[0;32m    316\u001b[0m         \u001b[0mpylab\u001b[0m\u001b[1;33m.\u001b[0m\u001b[0mxlabel\u001b[0m\u001b[1;33m(\u001b[0m\u001b[1;34m\"Samples\"\u001b[0m\u001b[1;33m)\u001b[0m\u001b[1;33m\u001b[0m\u001b[0m\n\u001b[0;32m    317\u001b[0m         \u001b[0mpylab\u001b[0m\u001b[1;33m.\u001b[0m\u001b[0mylabel\u001b[0m\u001b[1;33m(\u001b[0m\u001b[0mylabel\u001b[0m\u001b[1;33m)\u001b[0m\u001b[1;33m\u001b[0m\u001b[0m\n",
        "\u001b[1;31mUnicodeDecodeError\u001b[0m: 'ascii' codec can't decode byte 0xe2 in position 0: ordinal not in range(128)"
       ]
      },
      {
       "output_type": "stream",
       "stream": "stdout",
       "text": [
        "Building vocabulary index...\n"
       ]
      },
      {
       "metadata": {},
       "output_type": "display_data",
       "png": "[encoded data removed]",
       "text": [
        "<matplotlib.figure.Figure at 0x7584198>"
       ]
      }
     ],
     "prompt_number": 11
    },
    {
     "cell_type": "code",
     "collapsed": false,
     "input": [
      "#This will probably be helpful based on the documentation. Didn't figure out how to use it\n",
      "nltk_text.similar(\"Iron\")"
     ],
     "language": "python",
     "metadata": {},
     "outputs": []
    },
    {
     "cell_type": "code",
     "collapsed": false,
     "input": [
      "from sklearn.feature_extraction.text import CountVectorizer, TfidfVectorizer\n",
      "from sklearn.metrics.pairwise import cosine_similarity\n",
      "documents = ['hello I am the first one here in the hall.', 'Good morning people, I like to speak to you about whatever happens']\n",
      "tfidf_vectorizer = TfidfVectorizer(min_df=1)\n",
      "tfidf_matrix_train1 = tfidf_vectorizer.fit_transform(documents)  #finds the tfidf score with normalization\n",
      "#pairwise_similarity = tfidf_matrix_train1 * tfidf_matrix_train1.T\n",
      "#print (tfidf_matrix_train1 * tfidf_matrix_train1.T).A\n",
      "print \"cosine scores ==> \",cosine_similarity(tfidf_matrix_train1[0:1], tfidf_matrix_train1)"
     ],
     "language": "python",
     "metadata": {},
     "outputs": []
    },
    {
     "cell_type": "code",
     "collapsed": false,
     "input": [
      "vect = TfidfVectorizer(min_df=1)\n",
      "tfidf = vect.fit_transform([\"I'd like an apple\",\"An apple a day keeps the doctor away\",\"Never compare an apple to an orange\", \"I prefer scikit-learn to Orange\"])\n",
      "print (tfidf * tfidf.T).A"
     ],
     "language": "python",
     "metadata": {},
     "outputs": []
    },
    {
     "cell_type": "markdown",
     "metadata": {},
     "source": [
      "## Context"
     ]
    },
    {
     "cell_type": "code",
     "collapsed": false,
     "input": [
      "context = nltk.text.ContextIndex(nltk_tokens)"
     ],
     "language": "python",
     "metadata": {},
     "outputs": []
    },
    {
     "cell_type": "code",
     "collapsed": false,
     "input": [
      "#It somehow splits the text into letters. I guess you have to use a different context function\n",
      "print context.common_contexts([\"Iron\"])"
     ],
     "language": "python",
     "metadata": {},
     "outputs": []
    },
    {
     "cell_type": "code",
     "collapsed": false,
     "input": [
      "context.tokens()"
     ],
     "language": "python",
     "metadata": {},
     "outputs": []
    },
    {
     "cell_type": "markdown",
     "metadata": {},
     "source": [
      "## Concordance"
     ]
    },
    {
     "cell_type": "code",
     "collapsed": false,
     "input": [
      "concordance = nltk.text.ConcordanceIndex(nltk_text)"
     ],
     "language": "python",
     "metadata": {},
     "outputs": []
    },
    {
     "cell_type": "code",
     "collapsed": false,
     "input": [
      "concordance.offsets(\"Iron\")"
     ],
     "language": "python",
     "metadata": {},
     "outputs": []
    },
    {
     "cell_type": "code",
     "collapsed": false,
     "input": [
      "concordance.tokens()"
     ],
     "language": "python",
     "metadata": {},
     "outputs": []
    },
    {
     "cell_type": "markdown",
     "metadata": {},
     "source": [
      "## TextCollections"
     ]
    },
    {
     "cell_type": "code",
     "collapsed": false,
     "input": [
      "#there is a class nltk.text.TextCollection that can compare those. Haven't gotten around to do it though"
     ],
     "language": "python",
     "metadata": {},
     "outputs": []
    },
    {
     "cell_type": "code",
     "collapsed": false,
     "input": [
      "sent_detector = nltk.data.load('tokenizers/punkt/english.pickle')"
     ],
     "language": "python",
     "metadata": {},
     "outputs": []
    },
    {
     "cell_type": "code",
     "collapsed": false,
     "input": [
      "sentences = sent_detector.tokenize(text_to_analyze.strip())"
     ],
     "language": "python",
     "metadata": {},
     "outputs": []
    },
    {
     "cell_type": "code",
     "collapsed": false,
     "input": [
      "for a in sentences:\n",
      "    print \"-------\"\n",
      "    print a"
     ],
     "language": "python",
     "metadata": {},
     "outputs": []
    },
    {
     "cell_type": "markdown",
     "metadata": {},
     "source": [
      "##FrameNet\n"
     ]
    },
    {
     "cell_type": "code",
     "collapsed": false,
     "input": [
      "from nltk.corpus import propbank\n",
      "#len(fn.frames())\n",
      "#fn.frames(r'(?i)medical')"
     ],
     "language": "python",
     "metadata": {},
     "outputs": []
    },
    {
     "cell_type": "code",
     "collapsed": false,
     "input": [
      "propbank.verbs()"
     ],
     "language": "python",
     "metadata": {},
     "outputs": []
    },
    {
     "cell_type": "code",
     "collapsed": false,
     "input": [
      "pb_instances = propbank.instances()"
     ],
     "language": "python",
     "metadata": {},
     "outputs": []
    },
    {
     "cell_type": "code",
     "collapsed": false,
     "input": [
      "len(pb_instances)"
     ],
     "language": "python",
     "metadata": {},
     "outputs": []
    },
    {
     "cell_type": "code",
     "collapsed": false,
     "input": [
      "inst =  pb_instances[1]\n",
      "print inst"
     ],
     "language": "python",
     "metadata": {},
     "outputs": []
    },
    {
     "cell_type": "code",
     "collapsed": false,
     "input": [
      "infl = inst.inflection"
     ],
     "language": "python",
     "metadata": {},
     "outputs": []
    },
    {
     "cell_type": "code",
     "collapsed": false,
     "input": [
      "print infl"
     ],
     "language": "python",
     "metadata": {},
     "outputs": []
    },
    {
     "cell_type": "code",
     "collapsed": false,
     "input": [
      "infl.tense"
     ],
     "language": "python",
     "metadata": {},
     "outputs": []
    },
    {
     "cell_type": "code",
     "collapsed": false,
     "input": [
      "inst.roleset"
     ],
     "language": "python",
     "metadata": {},
     "outputs": []
    },
    {
     "cell_type": "markdown",
     "metadata": {},
     "source": [
      "##Difflib"
     ]
    },
    {
     "cell_type": "code",
     "collapsed": false,
     "input": [
      "import Levenshtein\n",
      "import jellyfish"
     ],
     "language": "python",
     "metadata": {},
     "outputs": []
    },
    {
     "cell_type": "code",
     "collapsed": false,
     "input": [
      "a = \"asdfghjkl\"\n",
      "b = \"ssdfghjk\""
     ],
     "language": "python",
     "metadata": {},
     "outputs": []
    },
    {
     "cell_type": "code",
     "collapsed": false,
     "input": [
      "print Levenshtein.ratio(a,b)\n",
      "print 1-jellyfish.levenshtein_distance(a,b)/float(max(len(a), len(b)))"
     ],
     "language": "python",
     "metadata": {},
     "outputs": []
    },
    {
     "cell_type": "markdown",
     "metadata": {},
     "source": [
      "##Gensim"
     ]
    },
    {
     "cell_type": "code",
     "collapsed": false,
     "input": [
      "import logging\n",
      "logging.basicConfig(format='%(asctime)s : %(levelname)s : %(message)s', level=logging.INFO)"
     ],
     "language": "python",
     "metadata": {},
     "outputs": []
    },
    {
     "cell_type": "code",
     "collapsed": false,
     "input": [
      "#from http://radimrehurek.com/gensim/tut1.html#from-strings-to-vectors\n",
      "from gensim import corpora, models, similarities\n",
      "import gensim\n",
      "\n",
      "documents = [\"Human machine interface for lab abc computer applications\",\n",
      "             \"A survey of user opinion of computer system response time\",\n",
      "             \"The EPS user interface management system\",\n",
      "             \"System and human system engineering testing of EPS\",\n",
      "             \"Relation of user perceived response time to error measurement\",\n",
      "             \"The generation of random binary unordered trees\",\n",
      "             \"The intersection graph of paths in trees\",\n",
      "             \"Graph minors IV Widths of trees and well quasi ordering\",\n",
      "             \"Graph minors A survey\"]"
     ],
     "language": "python",
     "metadata": {},
     "outputs": []
    },
    {
     "cell_type": "code",
     "collapsed": false,
     "input": [
      "#this is just from the tutorial. We have to think about what features we want to have\n",
      "# remove common words and tokenize\n",
      "stoplist = set('for a of the and to in'.split())\n",
      "texts = [[word for word in document.lower().split() if word not in stoplist]\n",
      "         for document in documents]\n",
      "# remove words that appear only once\n",
      "all_tokens = sum(texts, [])\n",
      "tokens_once = set(word for word in set(all_tokens) if all_tokens.count(word) == 1)\n",
      "texts = [[word for word in text if word not in tokens_once]\n",
      "         for text in texts]\n",
      "for t in texts:\n",
      "    print t"
     ],
     "language": "python",
     "metadata": {},
     "outputs": []
    },
    {
     "cell_type": "code",
     "collapsed": false,
     "input": [
      "dictionary = corpora.Dictionary(texts)\n",
      "print(dictionary.token2id)"
     ],
     "language": "python",
     "metadata": {},
     "outputs": []
    },
    {
     "cell_type": "code",
     "collapsed": false,
     "input": [
      "new_doc = \"Human computer interaction\"\n",
      "new_vec = dictionary.doc2bow(new_doc.lower().split())\n",
      "print(new_vec) # the word \"interaction\" does not appear in the dictionary and is ignored\n",
      "\n",
      "#doc2bow will create a sparse vector - we need to think about what we want to use as a dictionary.\n",
      "#Previous version(s) of a paragraph presumably. \n",
      "#could also use for coherence check (whole document versions)\n",
      "\n",
      "#UPDATE:  300 docs/3000 words is possibly too small for LDA to learn anything meaningful \n",
      "#as far as I understood, you build the corpus using EVERYTHING and then you take one doc (paragraph) and extract the topics from the corpus"
     ],
     "language": "python",
     "metadata": {},
     "outputs": []
    },
    {
     "cell_type": "code",
     "collapsed": false,
     "input": [
      "from os.path import join\n",
      "from os import getcwd"
     ],
     "language": "python",
     "metadata": {},
     "outputs": []
    },
    {
     "cell_type": "code",
     "collapsed": false,
     "input": [
      "#you can also store and serialize all things - look at tutorial for that\n",
      "corpus = [dictionary.doc2bow(text) for text in texts]\n",
      "#adjusted from tutorial to be not os-specific\n",
      "corpora.MmCorpus.serialize(join(getcwd(), 'tmp','deerwester.mm'), corpus)\n",
      "print(corpus)"
     ],
     "language": "python",
     "metadata": {},
     "outputs": []
    },
    {
     "cell_type": "code",
     "collapsed": false,
     "input": [
      "#Memory friendly! More information in tutorial. Only relevant if we want to scale this up\n",
      "class MyCorpus(object):\n",
      "    def __iter__(self):\n",
      "        for line in open('mycorpus.txt'):\n",
      "            # assume there's one document per line, tokens separated by whitespace\n",
      "            yield dictionary.doc2bow(line.lower().split())"
     ],
     "language": "python",
     "metadata": {},
     "outputs": []
    },
    {
     "cell_type": "code",
     "collapsed": false,
     "input": [
      "numpy_matrix = gensim.matutils.corpus2dense(corpus, len(dictionary))\n",
      "print numpy_matrix"
     ],
     "language": "python",
     "metadata": {},
     "outputs": []
    },
    {
     "cell_type": "code",
     "collapsed": false,
     "input": [
      "corpus = corpora.MmCorpus(join(getcwd(), 'tmp', 'deerwester.mm'))\n",
      "print corpus"
     ],
     "language": "python",
     "metadata": {},
     "outputs": []
    },
    {
     "cell_type": "code",
     "collapsed": false,
     "input": [
      "#creating a transformation \n",
      "tfidf = models.TfidfModel(corpus) # step 1 -- initialize a model"
     ],
     "language": "python",
     "metadata": {},
     "outputs": []
    },
    {
     "cell_type": "code",
     "collapsed": false,
     "input": [
      "doc_bow = [(0, 1), (1, 1)]\n",
      "print(tfidf[doc_bow]) # step 2 -- use the model to transform vectors\n",
      "\n",
      "#i get different values from the tutorial?!"
     ],
     "language": "python",
     "metadata": {},
     "outputs": []
    },
    {
     "cell_type": "code",
     "collapsed": false,
     "input": [
      "corpus_tfidf = tfidf[corpus]\n",
      "for doc in corpus_tfidf:\n",
      "     print(doc)"
     ],
     "language": "python",
     "metadata": {},
     "outputs": []
    },
    {
     "cell_type": "markdown",
     "metadata": {},
     "source": [
      "In this particular case, we are transforming the same corpus that we used for training, but this is only incidental. Once the transformation model has been initialized, it can be used on any vectors (provided they come from the same vector space, of course), even if they were not used in the training corpus at all. This is achieved by a process called folding-in for LSA, by topic inference for LDA etc."
     ]
    },
    {
     "cell_type": "code",
     "collapsed": false,
     "input": [
      "lsi = models.LsiModel(corpus_tfidf, id2word=dictionary) # initialize an LSI transformation\n",
      "corpus_lsi = lsi[corpus_tfidf] # create a double wrapper over the original corpus: bow->tfidf->fold-in-lsi"
     ],
     "language": "python",
     "metadata": {},
     "outputs": []
    },
    {
     "cell_type": "code",
     "collapsed": false,
     "input": [
      "lsi.print_topics(10)\n",
      "#Here we transformed our Tf-Idf corpus via Latent Semantic Indexing into a latent 2-D space (2-D because we set num_topics=2)."
     ],
     "language": "python",
     "metadata": {},
     "outputs": []
    },
    {
     "cell_type": "markdown",
     "metadata": {},
     "source": [
      "Latent semantic indexing (LSI) is an indexing and retrieval method that uses a mathematical technique called singular value decomposition (SVD) to identify patterns in the relationships between the terms and concepts contained in an unstructured collection of text. LSI is based on the principle that words that are used in the same contexts tend to have similar meanings. A key feature of LSI is its ability to extract the conceptual content of a body of text by establishing associations between those terms that occur in similar contexts. (wikipedia)"
     ]
    },
    {
     "cell_type": "code",
     "collapsed": false,
     "input": [
      "for doc in corpus_lsi: # both bow->tfidf and tfidf->lsi transformations are actually executed here, on the fly\n",
      "     print(doc)"
     ],
     "language": "python",
     "metadata": {},
     "outputs": []
    },
    {
     "cell_type": "markdown",
     "metadata": {},
     "source": [
      "http://radimrehurek.com/gensim/tut3.html is the next one. Has some measures for similarities and extracting topics. You could also just take the n most significant words. \n",
      "\n",
      "Some ideas from the google group:\n",
      "\n",
      "- https://groups.google.com/forum/#!searchin/gensim/topic/gensim/iou0kh-MRm4/JqOchy2aSpkJ\n",
      "- https://groups.google.com/forum/?fromgroups=#!searchin/gensim/lda$20topic-word$20matrix/gensim/Qoj7Agkx3qE/r9lyfihC4b4J (probably not relevant)\n",
      "- https://groups.google.com/forum/?fromgroups=#!searchin/gensim/topic/gensim/FYc05W7Q504/a0MO9DoqEUwJ (EXTREMELY relevant)\n"
     ]
    },
    {
     "cell_type": "markdown",
     "metadata": {},
     "source": [
      "###Texttiling"
     ]
    },
    {
     "cell_type": "code",
     "collapsed": false,
     "input": [
      "text = 'In machine learning, the term \"ground truth\" refers to the accuracy of the training set\\'s classification for supervised learning techniques. This is used in statistical models to prove or disprove research hypotheses. The verb \"ground truthing\" refers to the process of gathering the proper objective data for this test. Compare with gold standard (test).\\n\\\n",
      "Bayesian spam filtering is a common example of supervised learning. In this system, the algorithm is manually taught the differences between spam and non-spam. This depends on the ground truth of the messages used to train the algorithm; inaccuracies in that ground truth will correlate to inaccuracies in the resulting spam/non-spam verdicts.\\n\\\n",
      "Ground truth is a term used in remote sensing; it refers to information collected on location. Ground truth allows image data to be related to real features and materials on the ground. The collection of ground-truth data enables calibration of remote-sensing data, and aids in the interpretation and analysis of what is being sensed. Examples include cartography, meteorology, analysis of aerial photographs, satellite imagery and other techniques in which data are gathered at a distance.\\n\\\n",
      "More specifically, ground truth may refer to a process in which a pixel on a satellite image is compared to what is there in reality (at the present time) in order to verify the contents of the pixel on the image. In the case of a classified image, it allows supervised classification to help determine the accuracy of the classification performed by the remote sensing software and therefore minimize errors in the classification such as errors of commission and errors of omission.\\n\\\n",
      "Ground truth is usually done on site, performing surface observations and measurements of various properties of the features of the ground resolution cells that are being studied on the remotely sensed digital image. It also involves taking geographic coordinates of the ground resolution cell with GPS technology and comparing those with the coordinates of the pixel being studied provided by the remote sensing software to understand and analyze the location errors and how it may affect a particular study.\\n\\\n",
      "Ground truth is important in the initial supervised classification of an image. When the identity and location of land cover types are known through a combination of field work, maps, and personal experience these areas are known as training sites. The spectral characteristics of these areas are used to train the remote sensing software using decision rules for classifying the rest of the image. These decision rules such as Maximum Likelihood Classification, Parallelepiped Classification, and Minimum Distance Classification offer different techniques to classify an image. Additional ground truth sites allow the remote sensor to establish an error matrix which validates the accuracy of the classification method used. Different classification methods may have different percentages of error for a given classification project. It is important that the remote sensor chooses a classification method that works best with the number of classifications used while providing the least amount of error.\\n\\\n",
      "Ground truth also helps with atmospheric correction. Since images from satellites obviously have to pass through the atmosphere, they can get distorted because of absorption in the atmosphere. So ground truth can help fully identify objects in satellite photos.'"
     ],
     "language": "python",
     "metadata": {},
     "outputs": [],
     "prompt_number": 5
    },
    {
     "cell_type": "code",
     "collapsed": false,
     "input": [
      "import custom_texttiling as ct"
     ],
     "language": "python",
     "metadata": {},
     "outputs": [],
     "prompt_number": 3
    },
    {
     "cell_type": "code",
     "collapsed": false,
     "input": [
      "ct.demo(text=text)"
     ],
     "language": "python",
     "metadata": {},
     "outputs": [
      {
       "metadata": {},
       "output_type": "display_data",
       "png": "[encoded data removed]",
       "text": [
        "<matplotlib.figure.Figure at 0x116c7f60>"
       ]
      }
     ],
     "prompt_number": 8
    },
    {
     "cell_type": "code",
     "collapsed": false,
     "input": [
      "from nltk.corpus import brown\n",
      "import pylab\n",
      "tt=ct.TextTilingTokenizer(demo_mode=True)\n",
      "text=brown.raw()[:10000]\n",
      "s,ss,d,b=tt.tokenize(text)\n",
      "pylab.xlabel(\"Sentence Gap index\")\n",
      "pylab.ylabel(\"Gap Scores\")\n",
      "pylab.plot(range(len(s)), s, label=\"Gap Scores\")\n",
      "pylab.plot(range(len(ss)), ss, label=\"Smoothed Gap scores\")\n",
      "pylab.plot(range(len(d)), d, label=\"Depth scores\")\n",
      "pylab.stem(range(len(b)),b)\n",
      "pylab.legend()\n",
      "pylab.show()"
     ],
     "language": "python",
     "metadata": {},
     "outputs": [
      {
       "metadata": {},
       "output_type": "display_data",
       "png": "[encoded data removed]",
       "text": [
        "<matplotlib.figure.Figure at 0x11fba550>"
       ]
      }
     ],
     "prompt_number": 9
    },
    {
     "cell_type": "markdown",
     "metadata": {},
     "source": [
      "DIFFLIB and Wordnet\n"
     ]
    },
    {
     "cell_type": "code",
     "collapsed": false,
     "input": [
      "import difflib\n",
      "\n",
      "diff = difflib.ndiff(['abcdefghijklmnopqrstuvwxyz'],['abdefghhjklmnomnopqrstxyz'])\n",
      "for a in diff:\n",
      "    print a"
     ],
     "language": "python",
     "metadata": {},
     "outputs": [
      {
       "output_type": "stream",
       "stream": "stdout",
       "text": [
        "- abcdefghijklmnopqrstuvwxyz\n",
        "?   -     ^           ---\n",
        "\n",
        "+ abdefghhjklmnomnopqrstxyz\n",
        "?        ^   +++\n",
        "\n"
       ]
      }
     ],
     "prompt_number": 2
    },
    {
     "cell_type": "code",
     "collapsed": false,
     "input": [
      "import nltk\n",
      "from nltk.corpus import wordnet as wn \n",
      "\n",
      "#if it doesn't work, run the following and download it\n",
      "#nltk.download()"
     ],
     "language": "python",
     "metadata": {},
     "outputs": [],
     "prompt_number": 3
    },
    {
     "cell_type": "code",
     "collapsed": false,
     "input": [
      "#wn.synsets('dog') \n",
      "#wn.synset('dog.n.01').lemma_names\n",
      "#wn.synset('dog.n.01').lemmas \n",
      "#wn.lemma('dog.n.01.domestic_dog').synset\n",
      "for synset in wn.synsets('specify'): \n",
      "    print synset, \": \", synset.lemma_names"
     ],
     "language": "python",
     "metadata": {},
     "outputs": [
      {
       "output_type": "stream",
       "stream": "stdout",
       "text": [
        "Synset('stipulate.v.01') :  ['stipulate', 'qualify', 'condition', 'specify']\n",
        "Synset('specify.v.02') :  ['specify', 'set', 'determine', 'define', 'fix', 'limit']\n",
        "Synset('specify.v.03') :  ['specify', 'define', 'delineate', 'delimit', 'delimitate']\n",
        "Synset('specify.v.04') :  ['specify', 'particularize', 'particularise', 'specialize', 'specialise']\n",
        "Synset('pin_down.v.01') :  ['pin_down', 'peg_down', 'nail_down', 'narrow_down', 'narrow', 'specify']\n",
        "Synset('intend.v.02') :  ['intend', 'destine', 'designate', 'specify']\n",
        "Synset('assign.v.04') :  ['assign', 'specify', 'set_apart']\n"
       ]
      }
     ],
     "prompt_number": 4
    },
    {
     "cell_type": "code",
     "collapsed": false,
     "input": [
      "wn.synsets('compress')"
     ],
     "language": "python",
     "metadata": {},
     "outputs": [
      {
       "metadata": {},
       "output_type": "pyout",
       "prompt_number": 5,
       "text": [
        "[Synset('compress.n.01'), Synset('compress.v.01'), Synset('compress.v.02')]"
       ]
      }
     ],
     "prompt_number": 5
    },
    {
     "cell_type": "code",
     "collapsed": false,
     "input": [
      "#how to get the opposites of a word using wordnet\n",
      "opposites = set()\n",
      "for a in wn.synsets('narrow'): \n",
      "    for b in a.lemmas:\n",
      "        for c in b.antonyms():\n",
      "            for d in c.synset.lemma_names:\n",
      "                opposites.add(d)\n",
      "print opposites\n"
     ],
     "language": "python",
     "metadata": {},
     "outputs": [
      {
       "output_type": "stream",
       "stream": "stdout",
       "text": [
        "set(['wide', 'widen', 'branch_out', 'broad', 'broaden', 'broad-minded', 'diversify'])\n"
       ]
      }
     ],
     "prompt_number": 6
    },
    {
     "cell_type": "code",
     "collapsed": false,
     "input": [
      "right = wn.synset('actor.n.01') \n",
      "orca = wn.synset('actor.n.02')\n",
      "minke = wn.synset('actress.n.01') \n",
      "\n",
      "print right.path_similarity(minke) \n",
      "print right.path_similarity(orca) \n",
      "\n"
     ],
     "language": "python",
     "metadata": {},
     "outputs": [
      {
       "output_type": "stream",
       "stream": "stdout",
       "text": [
        "0.5\n",
        "0.2\n"
       ]
      }
     ],
     "prompt_number": 7
    },
    {
     "cell_type": "code",
     "collapsed": false,
     "input": [
      "[synset.name for synset in orca.hypernym_paths()[0]] \n"
     ],
     "language": "python",
     "metadata": {},
     "outputs": [
      {
       "metadata": {},
       "output_type": "pyout",
       "prompt_number": 8,
       "text": [
        "['entity.n.01',\n",
        " 'physical_entity.n.01',\n",
        " 'object.n.01',\n",
        " 'whole.n.02',\n",
        " 'living_thing.n.01',\n",
        " 'organism.n.01',\n",
        " 'person.n.01',\n",
        " 'actor.n.02']"
       ]
      }
     ],
     "prompt_number": 8
    },
    {
     "cell_type": "code",
     "collapsed": false,
     "input": [
      "[synset.name for synset in right.hypernym_paths()[0]] "
     ],
     "language": "python",
     "metadata": {},
     "outputs": [
      {
       "metadata": {},
       "output_type": "pyout",
       "prompt_number": 9,
       "text": [
        "['entity.n.01',\n",
        " 'physical_entity.n.01',\n",
        " 'object.n.01',\n",
        " 'whole.n.02',\n",
        " 'living_thing.n.01',\n",
        " 'organism.n.01',\n",
        " 'person.n.01',\n",
        " 'entertainer.n.01',\n",
        " 'performer.n.01',\n",
        " 'actor.n.01']"
       ]
      }
     ],
     "prompt_number": 9
    },
    {
     "cell_type": "code",
     "collapsed": false,
     "input": [
      "wn.synset('actor.n.02').lemma_names"
     ],
     "language": "python",
     "metadata": {},
     "outputs": [
      {
       "metadata": {},
       "output_type": "pyout",
       "prompt_number": 10,
       "text": [
        "['actor', 'doer', 'worker']"
       ]
      }
     ],
     "prompt_number": 10
    },
    {
     "cell_type": "code",
     "collapsed": false,
     "input": [
      "wn.synset('actress.n.01').lemma_names"
     ],
     "language": "python",
     "metadata": {},
     "outputs": [
      {
       "metadata": {},
       "output_type": "pyout",
       "prompt_number": 11,
       "text": [
        "['actress']"
       ]
      }
     ],
     "prompt_number": 11
    },
    {
     "cell_type": "code",
     "collapsed": false,
     "input": [],
     "language": "python",
     "metadata": {},
     "outputs": [],
     "prompt_number": 11
    },
    {
     "cell_type": "code",
     "collapsed": false,
     "input": [],
     "language": "python",
     "metadata": {},
     "outputs": []
    }
   ],
   "metadata": {}
  }
 ]
}
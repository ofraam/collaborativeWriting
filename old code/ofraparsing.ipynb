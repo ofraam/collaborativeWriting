{
 "metadata": {
  "name": ""
 },
 "nbformat": 3,
 "nbformat_minor": 0,
 "worksheets": [
  {
   "cells": [
    {
     "cell_type": "code",
     "collapsed": false,
     "input": [
      "import os\n",
      "from version import Page\n",
      "import cPickle"
     ],
     "language": "python",
     "metadata": {},
     "outputs": [],
     "prompt_number": 1
    },
    {
     "cell_type": "markdown",
     "metadata": {},
     "source": [
      "#Paper I"
     ]
    },
    {
     "cell_type": "code",
     "collapsed": false,
     "input": [
      "filenames = []\n",
      "for a in os.walk(os.path.join('ofra', 'multiagent')):\n",
      "    for b in a[2]:\n",
      "        filenames.append(b)"
     ],
     "language": "python",
     "metadata": {},
     "outputs": [],
     "prompt_number": 207
    },
    {
     "cell_type": "code",
     "collapsed": false,
     "input": [
      "ofra_names = [a.split('_') for a in filenames]\n",
      "for a in ofra_names:\n",
      "    a[-1] = a[-1][:-4]\n",
      "    versionnum = a[0][-1]\n",
      "    a[0] = a[0][:-1]\n",
      "    a.append(versionnum)\n",
      "    a[2] = a[2][2:]\n",
      "    a[2] = a[2]+a[3]\n",
      "    a.pop(3)"
     ],
     "language": "python",
     "metadata": {},
     "outputs": [],
     "prompt_number": 208
    },
    {
     "cell_type": "code",
     "collapsed": false,
     "input": [
      "ofra_names.sort(key=lambda x: x[2])\n",
      "versions = []\n",
      "curr_author = ''\n",
      "chapters_in = []\n",
      "for a in ofra_names:\n",
      "    if curr_author != a[1] or a[0] in chapters_in:\n",
      "        versions.append([])\n",
      "        chapters_in = []\n",
      "    curr_author = a[1]\n",
      "    chapters_in.append(a[0])\n",
      "    versions[-1].append((a[0], a[-1]))\n",
      "        \n",
      "        \n",
      "    "
     ],
     "language": "python",
     "metadata": {},
     "outputs": [],
     "prompt_number": 209
    },
    {
     "cell_type": "code",
     "collapsed": false,
     "input": [
      "order = {'background': 0,\n",
      "         'approach': 1,\n",
      "         'ICTSvsAuction': 2,\n",
      "         'selfInterested': 3,\n",
      "         'exp': 4,\n",
      "         'disc': 5}"
     ],
     "language": "python",
     "metadata": {},
     "outputs": [],
     "prompt_number": 210
    },
    {
     "cell_type": "code",
     "collapsed": false,
     "input": [
      "for a in versions:\n",
      "    print a"
     ],
     "language": "python",
     "metadata": {},
     "outputs": [
      {
       "output_type": "stream",
       "stream": "stdout",
       "text": [
        "[('ICTSvsAuction', '1'), ('approach', '1'), ('background', '1'), ('disc', '1')]\n",
        "[('ICTSvsAuction', '2')]\n",
        "[('background', '2')]\n",
        "[('background', '3'), ('approach', '2')]\n",
        "[('selfInterested', '1'), ('exp', '1'), ('background', '4')]\n",
        "[('exp', '2')]\n",
        "[('approach', '3')]\n",
        "[('selfInterested', '2'), ('background', '5'), ('disc', '2'), ('approach', '4')]\n",
        "[('background', '6'), ('ICTSvsAuction', '3'), ('selfInterested', '3'), ('approach', '5')]\n",
        "[('approach', '6'), ('ICTSvsAuction', '4')]\n",
        "[('ICTSvsAuction', '5'), ('approach', '7'), ('disc', '3')]\n",
        "[('ICTSvsAuction', '6')]\n",
        "[('exp', '3')]\n",
        "[('background', '7'), ('selfInterested', '4'), ('disc', '4'), ('exp', '4')]\n",
        "[('ICTSvsAuction', '7')]\n",
        "[('ICTSvsAuction', '8')]\n"
       ]
      }
     ],
     "prompt_number": 211
    },
    {
     "cell_type": "code",
     "collapsed": false,
     "input": [
      "def get_filename(chapter, version):\n",
      "    subset = [a for a in filenames if chapter+version in a]\n",
      "    return subset[0]"
     ],
     "language": "python",
     "metadata": {},
     "outputs": [],
     "prompt_number": 212
    },
    {
     "cell_type": "code",
     "collapsed": false,
     "input": [
      "text_dict = {}\n",
      "for a in versions:\n",
      "    for b in a:\n",
      "        fn = get_filename(b[0], b[1])\n",
      "        text = open(os.path.join('ofra', 'multiagent', fn), 'r')\n",
      "        text_a = ''\n",
      "        for t in text:\n",
      "            text_a += t #+ '\\n'\n",
      "        text_dict[(b[0], b[1])] = text_a\n",
      "        "
     ],
     "language": "python",
     "metadata": {},
     "outputs": [],
     "prompt_number": 213
    },
    {
     "cell_type": "code",
     "collapsed": false,
     "input": [
      "def get_latest_version(i, ch):\n",
      "    max_ch = 0\n",
      "    for a in versions[:i]:\n",
      "        for b in a:\n",
      "            if b[0] == ch:\n",
      "                max_ch = max(max_ch, b[1])\n",
      "    return max_ch"
     ],
     "language": "python",
     "metadata": {},
     "outputs": [],
     "prompt_number": 214
    },
    {
     "cell_type": "code",
     "collapsed": false,
     "input": [
      "def build_version(i):\n",
      "    text = ''\n",
      "    #build all covered topics\n",
      "    para_titles = set()\n",
      "    for a in versions[:i+1]:\n",
      "        for b in a: \n",
      "            para_titles.add(b[0])\n",
      "    #build text\n",
      "    sorted_paras = []\n",
      "    for p in para_titles:\n",
      "        sorted_paras.append((p, order[p]))\n",
      "    sorted_paras = sorted(sorted_paras, key=lambda x: x[1])\n",
      "        \n",
      "    for a in sorted_paras:\n",
      "        latest = get_latest_version(i+1, a[0])\n",
      "        text += text_dict[(a[0], latest)] + \"\\n\"\n",
      "    return text.decode(\"UTF-8\")"
     ],
     "language": "python",
     "metadata": {},
     "outputs": [],
     "prompt_number": 229
    },
    {
     "cell_type": "code",
     "collapsed": false,
     "input": [
      "def clean_version(text):\n",
      "    cleaned_array = [a for a in text.split(\"\\n\") if len(a) > 2 and a[0] not in [\"\\\\\", \"%\"]]\n",
      "    new_text = ''\n",
      "    for a in cleaned_array:\n",
      "        new_text += a + \"\\n\"\n",
      "    return new_text         "
     ],
     "language": "python",
     "metadata": {},
     "outputs": [],
     "prompt_number": 25
    },
    {
     "cell_type": "code",
     "collapsed": false,
     "input": [
      "def find_author(version):\n",
      "    author = ''\n",
      "    for o in ofra_names:\n",
      "        if o[0] == version[0] and o[-1] == version[1]:\n",
      "            author = o[1]\n",
      "            break\n",
      "    return author\n",
      "    "
     ],
     "language": "python",
     "metadata": {},
     "outputs": [],
     "prompt_number": 231
    },
    {
     "cell_type": "code",
     "collapsed": false,
     "input": [
      "page_history = Page(\"Ofra\")\n",
      "for i in xrange(len(versions)):\n",
      "    t = clean_version(build_version(i))\n",
      "    author = find_author(versions[i][0])\n",
      "    page_history.add_revision(t, '', '2005-08-26T18:47:24Z', author)\n",
      "page_history.create_paras()\n",
      "\n",
      "                    "
     ],
     "language": "python",
     "metadata": {},
     "outputs": [],
     "prompt_number": 232
    },
    {
     "cell_type": "code",
     "collapsed": false,
     "input": [
      "#store as pickle file\n",
      "pkl_file = open(os.path.join(os.getcwd(), 'pickles', 'ofra.pkl'), 'wb')\n",
      "cPickle.dump(page_history, pkl_file)\n",
      "pkl_file.close()"
     ],
     "language": "python",
     "metadata": {},
     "outputs": [],
     "prompt_number": 220
    },
    {
     "cell_type": "markdown",
     "metadata": {},
     "source": [
      "#Paper II"
     ]
    },
    {
     "cell_type": "code",
     "collapsed": false,
     "input": [
      "filenames = []\n",
      "for a in os.walk(os.path.join('ofra', 'satdpaper')):\n",
      "    for b in a[2]:\n",
      "        if \"orderOf\" not in b:\n",
      "            filenames.append(b)\n",
      "            print b"
     ],
     "language": "python",
     "metadata": {},
     "outputs": [
      {
       "output_type": "stream",
       "stream": "stdout",
       "text": [
        "agent2.tex\n",
        "discussion_short.tex\n",
        "intro.tex\n",
        "methods.tex\n",
        "problemDef_bdish_2.tex\n",
        "relatedShort.tex\n",
        "results.tex\n"
       ]
      }
     ],
     "prompt_number": 8
    },
    {
     "cell_type": "code",
     "collapsed": false,
     "input": [
      "order_2 = {0: 'intro',\n",
      "         1: 'problemDef_bdish_2',\n",
      "         2: 'relatedShort',\n",
      "         3: 'agent2',\n",
      "         4: 'methods',\n",
      "         5: 'results',\n",
      "         6: 'discussion_short'}"
     ],
     "language": "python",
     "metadata": {},
     "outputs": [],
     "prompt_number": 16
    },
    {
     "cell_type": "code",
     "collapsed": false,
     "input": [
      "text_dict_2 = {}\n",
      "for o in order_2.itervalues():\n",
      "    fn = o + '.tex'\n",
      "    text = open(os.path.join('ofra', 'satdpaper', fn), 'r')\n",
      "    text_a = ''\n",
      "    for t in text:\n",
      "        text_a += t #+ '\\n'\n",
      "    text_dict_2[o] = text_a"
     ],
     "language": "python",
     "metadata": {},
     "outputs": [],
     "prompt_number": 17
    },
    {
     "cell_type": "code",
     "collapsed": false,
     "input": [
      "text = ''\n",
      "for i in xrange(max(order_2.keys())+1):\n",
      "    text += text_dict_2[order_2[i]].decode(\"UTF-8\")\n",
      "text = clean_version(text)"
     ],
     "language": "python",
     "metadata": {},
     "outputs": [],
     "prompt_number": 26
    },
    {
     "cell_type": "code",
     "collapsed": false,
     "input": [
      "page_history_2 = Page(\"Ofra_SATD\")\n",
      "page_history_2.add_revision(text, '', '2005-08-26T18:47:24Z', \"Ofra\")\n",
      "page_history_2.create_paras()"
     ],
     "language": "python",
     "metadata": {},
     "outputs": [],
     "prompt_number": 27
    },
    {
     "cell_type": "code",
     "collapsed": false,
     "input": [
      "#store as pickle file\n",
      "pkl_file = open(os.path.join(os.getcwd(), 'pickles', 'ofra_satd.pkl'), 'wb')\n",
      "cPickle.dump(page_history_2, pkl_file)\n",
      "pkl_file.close()"
     ],
     "language": "python",
     "metadata": {},
     "outputs": [],
     "prompt_number": 28
    }
   ],
   "metadata": {}
  }
 ]
}